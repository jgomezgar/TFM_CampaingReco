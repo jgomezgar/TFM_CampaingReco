{
 "cells": [
  {
   "cell_type": "code",
   "execution_count": 1,
   "metadata": {},
   "outputs": [
    {
     "name": "stdout",
     "output_type": "stream",
     "text": [
      "Once deleted, variables cannot be recovered. Proceed (y/[n])? y\n",
      "Don't know how to reset  (), please run `%reset?` for details\n"
     ]
    }
   ],
   "source": [
    "reset()"
   ]
  },
  {
   "cell_type": "code",
   "execution_count": 2,
   "metadata": {},
   "outputs": [],
   "source": [
    "import pandas as pd\n",
    "import numpy as np\n",
    "import pyodbc "
   ]
  },
  {
   "cell_type": "code",
   "execution_count": 3,
   "metadata": {},
   "outputs": [],
   "source": [
    "QueryFile = '../00_AuxSQL/01.Vending_Propor.sql'\n",
    "\n",
    "fd = open(QueryFile,'r', encoding='utf-16')\n",
    "Query = fd.read()\n",
    "fd.close()"
   ]
  },
  {
   "cell_type": "code",
   "execution_count": 4,
   "metadata": {},
   "outputs": [
    {
     "name": "stdout",
     "output_type": "stream",
     "text": [
      "Wall time: 992 ms\n"
     ]
    }
   ],
   "source": [
    "%%time\n",
    "conn = pyodbc.connect('Driver={SQL Server};'\n",
    "                      'Server=esmz08srdb009;'\n",
    "                      'Database=ITE_PRD;'\n",
    "                      'Trusted_Connection=yes;')\n",
    "\n",
    "cursor = conn.cursor()\n"
   ]
  },
  {
   "cell_type": "code",
   "execution_count": 5,
   "metadata": {},
   "outputs": [
    {
     "name": "stdout",
     "output_type": "stream",
     "text": [
      "Wall time: 1min 55s\n"
     ]
    }
   ],
   "source": [
    "%%time\n",
    "Popor_estancos = pd.read_sql(Query,conn)"
   ]
  },
  {
   "cell_type": "markdown",
   "metadata": {},
   "source": [
    "inputcsv=r'https://spainblob.blob.core.windows.net/altadis/Vending_Proportions.csv'\n",
    "\n",
    "Popor_estancos = pd.read_csv(inputcsv) \n"
   ]
  },
  {
   "cell_type": "code",
   "execution_count": 6,
   "metadata": {},
   "outputs": [
    {
     "data": {
      "text/plain": [
       "Index(['CUSTOMER_ID', 'Sales2C', 'Sales2C_num', 'MES', 'BLOND_VOL',\n",
       "       'BLOND_PCK', 'BLACK_VOL', 'BLACK_PCK', 'RYO_VOL', 'RYO_PCK',\n",
       "       'CIGAR_VOL', 'PIPE_VOL', 'PIPE_PCK'],\n",
       "      dtype='object')"
      ]
     },
     "execution_count": 6,
     "metadata": {},
     "output_type": "execute_result"
    }
   ],
   "source": [
    "Popor_estancos.columns"
   ]
  },
  {
   "cell_type": "code",
   "execution_count": 7,
   "metadata": {},
   "outputs": [
    {
     "data": {
      "text/html": [
       "<div>\n",
       "<style scoped>\n",
       "    .dataframe tbody tr th:only-of-type {\n",
       "        vertical-align: middle;\n",
       "    }\n",
       "\n",
       "    .dataframe tbody tr th {\n",
       "        vertical-align: top;\n",
       "    }\n",
       "\n",
       "    .dataframe thead th {\n",
       "        text-align: right;\n",
       "    }\n",
       "</style>\n",
       "<table border=\"1\" class=\"dataframe\">\n",
       "  <thead>\n",
       "    <tr style=\"text-align: right;\">\n",
       "      <th></th>\n",
       "      <th>CUSTOMER_ID</th>\n",
       "      <th>Sales2C</th>\n",
       "      <th>Sales2C_num</th>\n",
       "      <th>MES</th>\n",
       "      <th>BLOND_VOL</th>\n",
       "      <th>BLOND_PCK</th>\n",
       "      <th>BLACK_VOL</th>\n",
       "      <th>BLACK_PCK</th>\n",
       "      <th>RYO_VOL</th>\n",
       "      <th>RYO_PCK</th>\n",
       "      <th>CIGAR_VOL</th>\n",
       "      <th>PIPE_VOL</th>\n",
       "      <th>PIPE_PCK</th>\n",
       "    </tr>\n",
       "  </thead>\n",
       "  <tbody>\n",
       "    <tr>\n",
       "      <th>0</th>\n",
       "      <td>30070056</td>\n",
       "      <td>0% - 5%</td>\n",
       "      <td>3.0</td>\n",
       "      <td>201808.0</td>\n",
       "      <td>507760.0</td>\n",
       "      <td>25106.0</td>\n",
       "      <td>0.038443</td>\n",
       "      <td>0.037042</td>\n",
       "      <td>0.189579</td>\n",
       "      <td>0.090297</td>\n",
       "      <td>0.044942</td>\n",
       "      <td>0.013766</td>\n",
       "      <td>0.005735</td>\n",
       "    </tr>\n",
       "    <tr>\n",
       "      <th>1</th>\n",
       "      <td>07007818</td>\n",
       "      <td>None</td>\n",
       "      <td>0.0</td>\n",
       "      <td>201806.0</td>\n",
       "      <td>209344.0</td>\n",
       "      <td>10406.0</td>\n",
       "      <td>0.020062</td>\n",
       "      <td>0.020180</td>\n",
       "      <td>0.068547</td>\n",
       "      <td>0.045166</td>\n",
       "      <td>0.061382</td>\n",
       "      <td>0.000000</td>\n",
       "      <td>0.000000</td>\n",
       "    </tr>\n",
       "    <tr>\n",
       "      <th>2</th>\n",
       "      <td>04001095</td>\n",
       "      <td>None</td>\n",
       "      <td>0.0</td>\n",
       "      <td>201808.0</td>\n",
       "      <td>67224.0</td>\n",
       "      <td>3348.0</td>\n",
       "      <td>0.047602</td>\n",
       "      <td>0.047789</td>\n",
       "      <td>0.162382</td>\n",
       "      <td>0.100955</td>\n",
       "      <td>0.040908</td>\n",
       "      <td>0.000000</td>\n",
       "      <td>0.000000</td>\n",
       "    </tr>\n",
       "    <tr>\n",
       "      <th>3</th>\n",
       "      <td>03030624</td>\n",
       "      <td>36% - 40%</td>\n",
       "      <td>38.0</td>\n",
       "      <td>201903.0</td>\n",
       "      <td>1937754.0</td>\n",
       "      <td>94901.0</td>\n",
       "      <td>0.021364</td>\n",
       "      <td>0.021453</td>\n",
       "      <td>0.118756</td>\n",
       "      <td>0.061464</td>\n",
       "      <td>0.017487</td>\n",
       "      <td>0.011229</td>\n",
       "      <td>0.004446</td>\n",
       "    </tr>\n",
       "    <tr>\n",
       "      <th>4</th>\n",
       "      <td>05010129</td>\n",
       "      <td>None</td>\n",
       "      <td>0.0</td>\n",
       "      <td>201901.0</td>\n",
       "      <td>57000.0</td>\n",
       "      <td>2850.0</td>\n",
       "      <td>0.098245</td>\n",
       "      <td>0.098245</td>\n",
       "      <td>0.036842</td>\n",
       "      <td>0.024561</td>\n",
       "      <td>0.036842</td>\n",
       "      <td>0.000000</td>\n",
       "      <td>0.000000</td>\n",
       "    </tr>\n",
       "  </tbody>\n",
       "</table>\n",
       "</div>"
      ],
      "text/plain": [
       "  CUSTOMER_ID    Sales2C  Sales2C_num       MES  BLOND_VOL  BLOND_PCK  \\\n",
       "0    30070056    0% - 5%          3.0  201808.0   507760.0    25106.0   \n",
       "1    07007818       None          0.0  201806.0   209344.0    10406.0   \n",
       "2    04001095       None          0.0  201808.0    67224.0     3348.0   \n",
       "3    03030624  36% - 40%         38.0  201903.0  1937754.0    94901.0   \n",
       "4    05010129       None          0.0  201901.0    57000.0     2850.0   \n",
       "\n",
       "   BLACK_VOL  BLACK_PCK   RYO_VOL   RYO_PCK  CIGAR_VOL  PIPE_VOL  PIPE_PCK  \n",
       "0   0.038443   0.037042  0.189579  0.090297   0.044942  0.013766  0.005735  \n",
       "1   0.020062   0.020180  0.068547  0.045166   0.061382  0.000000  0.000000  \n",
       "2   0.047602   0.047789  0.162382  0.100955   0.040908  0.000000  0.000000  \n",
       "3   0.021364   0.021453  0.118756  0.061464   0.017487  0.011229  0.004446  \n",
       "4   0.098245   0.098245  0.036842  0.024561   0.036842  0.000000  0.000000  "
      ]
     },
     "execution_count": 7,
     "metadata": {},
     "output_type": "execute_result"
    }
   ],
   "source": [
    "Popor_estancos.head()"
   ]
  },
  {
   "cell_type": "code",
   "execution_count": 8,
   "metadata": {},
   "outputs": [],
   "source": [
    "feats_to_explore=['BLOND_VOL', 'BLOND_PCK', 'BLACK_VOL', 'BLACK_PCK', 'RYO_VOL', 'RYO_PCK', 'CIGAR_VOL', 'PIPE_VOL', 'PIPE_PCK']\n",
    "#feats_to_explore=[ 'BLOND_PCK',  'BLACK_PCK', 'RYO_PCK', 'CIGAR_VOL', 'PIPE_PCK']\n",
    "labels= ['0% - 5%', '6% - 10%', '11% - 15%', '16% - 20%', '21% - 25%', '26% - 30%', '31% - 35%', '36% - 40%', '41% - 45%', '46% - 50%', '51% - 55%', '56% - 60%','61% - 65%', '66% - 70%', '71% - 75%', '76% - 80%', '81% - 85%', '86% - 90%', '91% - 95%', '96% - 100%']\n"
   ]
  },
  {
   "cell_type": "code",
   "execution_count": 9,
   "metadata": {},
   "outputs": [
    {
     "data": {
      "text/plain": [
       "(313512, 13)"
      ]
     },
     "execution_count": 9,
     "metadata": {},
     "output_type": "execute_result"
    }
   ],
   "source": [
    "Popor_estancos.shape"
   ]
  },
  {
   "cell_type": "code",
   "execution_count": 10,
   "metadata": {},
   "outputs": [],
   "source": [
    "from sklearn import preprocessing\n",
    "\n",
    "lab_enc = preprocessing.LabelEncoder()\n",
    "Score = lab_enc.fit_transform( Popor_estancos['Sales2C_num'])\n",
    "Popor_estancos['Score']=Score\n"
   ]
  },
  {
   "cell_type": "code",
   "execution_count": 11,
   "metadata": {},
   "outputs": [],
   "source": [
    "data=Popor_estancos"
   ]
  },
  {
   "cell_type": "code",
   "execution_count": 12,
   "metadata": {},
   "outputs": [],
   "source": [
    "data=data.dropna()"
   ]
  },
  {
   "cell_type": "code",
   "execution_count": 13,
   "metadata": {},
   "outputs": [
    {
     "data": {
      "text/plain": [
       "(251267, 14)"
      ]
     },
     "execution_count": 13,
     "metadata": {},
     "output_type": "execute_result"
    }
   ],
   "source": [
    "data.shape"
   ]
  },
  {
   "cell_type": "markdown",
   "metadata": {},
   "source": [
    "# Entrenamiento con muestra restrictiva.\n",
    "Dado que el % de ventas al segundo canal es declarativo, tomare solamente los valores mas \"fialbles\", esto es, eliminaré outliers de forma muy restritctiva(33%-66%), con estos datos, entrenaré el modelo."
   ]
  },
  {
   "cell_type": "markdown",
   "metadata": {},
   "source": [
    "### dataset sin outliers"
   ]
  },
  {
   "cell_type": "code",
   "execution_count": 14,
   "metadata": {},
   "outputs": [],
   "source": [
    "#dataset sin outliers\n",
    "\n",
    "cat_Feat=['CUSTOMER_ID','Sales2C','Sales2C_num','Score','MES']\n",
    "cat_data = data[cat_Feat]\n",
    "\n",
    "num_data =data[feats_to_explore]\n"
   ]
  },
  {
   "cell_type": "code",
   "execution_count": 15,
   "metadata": {},
   "outputs": [],
   "source": [
    "from scipy import stats\n",
    "\n",
    "idx = np.all(stats.zscore(num_data) < 3, axis=1)\n",
    "Data_cleaned = pd.concat([num_data.loc[idx], cat_data.loc[idx]], axis=1)"
   ]
  },
  {
   "cell_type": "code",
   "execution_count": 16,
   "metadata": {},
   "outputs": [],
   "source": [
    "# Restrictive Tiles\n",
    "Q1 = num_data.quantile(0.33)\n",
    "Q3 = num_data.quantile(0.66)\n",
    "IQR = Q3 - Q1\n",
    "idx = ~((num_data < (Q1 - 1.5 * IQR)) | (num_data > (Q3 + 1.5 * IQR))).any(axis=1)\n",
    "Data_cleaned = pd.concat([cat_data.loc[idx], num_data.loc[idx]], axis=1)"
   ]
  },
  {
   "cell_type": "code",
   "execution_count": 17,
   "metadata": {},
   "outputs": [
    {
     "name": "stdout",
     "output_type": "stream",
     "text": [
      "(133590, 14)\n",
      "DataSet sin outliers: 53.17 %\n"
     ]
    }
   ],
   "source": [
    "print (Data_cleaned.shape)\n",
    "print('DataSet sin outliers:',round(100*Data_cleaned.shape[0]/ data.shape[0],2),'%')"
   ]
  },
  {
   "cell_type": "code",
   "execution_count": 18,
   "metadata": {},
   "outputs": [],
   "source": [
    "from sklearn.model_selection import train_test_split\n",
    "\n",
    "Score = lab_enc.fit_transform( Data_cleaned['Sales2C_num'])\n",
    "\n",
    "X_train, X_test, y_train, y_test = train_test_split(Data_cleaned[feats_to_explore], Score, test_size=0.1, random_state=2019, stratify=Data_cleaned['Sales2C_num'])"
   ]
  },
  {
   "cell_type": "code",
   "execution_count": null,
   "metadata": {},
   "outputs": [],
   "source": []
  },
  {
   "cell_type": "markdown",
   "metadata": {},
   "source": [
    "# RANDOM FOREST"
   ]
  },
  {
   "cell_type": "code",
   "execution_count": 19,
   "metadata": {},
   "outputs": [
    {
     "name": "stdout",
     "output_type": "stream",
     "text": [
      "Wall time: 5min 54s\n"
     ]
    }
   ],
   "source": [
    "%%time\n",
    "from sklearn.ensemble import RandomForestClassifier\n",
    "\n",
    "#Create Classifier\n",
    "n_estimators=400\n",
    "rfc=RandomForestClassifier(n_estimators=n_estimators,  oob_score = True)\n",
    "rfc.fit( X_train, y_train);"
   ]
  },
  {
   "cell_type": "code",
   "execution_count": 20,
   "metadata": {},
   "outputs": [
    {
     "name": "stdout",
     "output_type": "stream",
     "text": [
      "400 : Train Score: 99.86%\n",
      "400 : out-of-bag Score: 57.36%\n",
      "400 : Test Score: 57.65%\n"
     ]
    }
   ],
   "source": [
    "print(n_estimators, ': Train Score: {:.2f}%'.format( rfc.score( X_train, y_train)*100))\n",
    "print(n_estimators, ': out-of-bag Score: {:.2f}%'.format(rfc.oob_score_*100))\n",
    "print(n_estimators, ': Test Score: {:.2f}%'.format(rfc.score(X_test, y_test)*100))"
   ]
  },
  {
   "cell_type": "code",
   "execution_count": 21,
   "metadata": {},
   "outputs": [
    {
     "data": {
      "text/plain": [
       "Index(['BLOND_VOL', 'BLOND_PCK', 'BLACK_VOL', 'BLACK_PCK', 'RYO_VOL',\n",
       "       'RYO_PCK', 'CIGAR_VOL', 'PIPE_VOL', 'PIPE_PCK'],\n",
       "      dtype='object')"
      ]
     },
     "execution_count": 21,
     "metadata": {},
     "output_type": "execute_result"
    }
   ],
   "source": [
    "X_train.columns"
   ]
  },
  {
   "cell_type": "markdown",
   "metadata": {},
   "source": [
    "# Predicción sobre el conjunto de datos completo"
   ]
  },
  {
   "cell_type": "code",
   "execution_count": 22,
   "metadata": {},
   "outputs": [
    {
     "name": "stdout",
     "output_type": "stream",
     "text": [
      "Wall time: 1min 48s\n"
     ]
    }
   ],
   "source": [
    "%%time\n",
    "predic = rfc.predict(Popor_estancos[feats_to_explore])"
   ]
  },
  {
   "cell_type": "code",
   "execution_count": 23,
   "metadata": {},
   "outputs": [
    {
     "data": {
      "text/plain": [
       "((313512,), (313512, 14))"
      ]
     },
     "execution_count": 23,
     "metadata": {},
     "output_type": "execute_result"
    }
   ],
   "source": [
    "predic.shape, Popor_estancos.shape"
   ]
  },
  {
   "cell_type": "code",
   "execution_count": 24,
   "metadata": {},
   "outputs": [],
   "source": [
    "Popor_estancos['predic_ID']=predic\n",
    "Popor_estancos['predic']=lab_enc.inverse_transform(predic)"
   ]
  },
  {
   "cell_type": "code",
   "execution_count": 25,
   "metadata": {},
   "outputs": [
    {
     "data": {
      "text/plain": [
       "CUSTOMER_ID    0.510204\n",
       "Sales2C        0.510204\n",
       "Sales2C_num    0.510204\n",
       "MES            0.510204\n",
       "BLOND_VOL      0.510204\n",
       "BLOND_PCK      0.510204\n",
       "BLACK_VOL      0.510204\n",
       "BLACK_PCK      0.510204\n",
       "RYO_VOL        0.510204\n",
       "RYO_PCK        0.510204\n",
       "CIGAR_VOL      0.510204\n",
       "PIPE_VOL       0.510204\n",
       "PIPE_PCK       0.510204\n",
       "Score          0.510204\n",
       "predic_ID      0.510204\n",
       "predic         0.510204\n",
       "dtype: float64"
      ]
     },
     "execution_count": 25,
     "metadata": {},
     "output_type": "execute_result"
    }
   ],
   "source": [
    "Popor_estancos[Popor_estancos.predic == Popor_estancos.Sales2C_num].count()/Popor_estancos.shape[0]"
   ]
  },
  {
   "cell_type": "code",
   "execution_count": 26,
   "metadata": {},
   "outputs": [
    {
     "data": {
      "text/html": [
       "<div>\n",
       "<style scoped>\n",
       "    .dataframe tbody tr th:only-of-type {\n",
       "        vertical-align: middle;\n",
       "    }\n",
       "\n",
       "    .dataframe tbody tr th {\n",
       "        vertical-align: top;\n",
       "    }\n",
       "\n",
       "    .dataframe thead th {\n",
       "        text-align: right;\n",
       "    }\n",
       "</style>\n",
       "<table border=\"1\" class=\"dataframe\">\n",
       "  <thead>\n",
       "    <tr style=\"text-align: right;\">\n",
       "      <th></th>\n",
       "      <th>CUSTOMER_ID</th>\n",
       "      <th>Sales2C</th>\n",
       "      <th>Sales2C_num</th>\n",
       "      <th>Score</th>\n",
       "      <th>MES</th>\n",
       "      <th>predic</th>\n",
       "    </tr>\n",
       "  </thead>\n",
       "  <tbody>\n",
       "    <tr>\n",
       "      <th>0</th>\n",
       "      <td>30070056</td>\n",
       "      <td>0% - 5%</td>\n",
       "      <td>3.0</td>\n",
       "      <td>1</td>\n",
       "      <td>201808.0</td>\n",
       "      <td>3.0</td>\n",
       "    </tr>\n",
       "    <tr>\n",
       "      <th>1</th>\n",
       "      <td>07007818</td>\n",
       "      <td>None</td>\n",
       "      <td>0.0</td>\n",
       "      <td>0</td>\n",
       "      <td>201806.0</td>\n",
       "      <td>8.0</td>\n",
       "    </tr>\n",
       "    <tr>\n",
       "      <th>2</th>\n",
       "      <td>04001095</td>\n",
       "      <td>None</td>\n",
       "      <td>0.0</td>\n",
       "      <td>0</td>\n",
       "      <td>201808.0</td>\n",
       "      <td>3.0</td>\n",
       "    </tr>\n",
       "    <tr>\n",
       "      <th>3</th>\n",
       "      <td>03030624</td>\n",
       "      <td>36% - 40%</td>\n",
       "      <td>38.0</td>\n",
       "      <td>8</td>\n",
       "      <td>201903.0</td>\n",
       "      <td>43.0</td>\n",
       "    </tr>\n",
       "    <tr>\n",
       "      <th>4</th>\n",
       "      <td>05010129</td>\n",
       "      <td>None</td>\n",
       "      <td>0.0</td>\n",
       "      <td>0</td>\n",
       "      <td>201901.0</td>\n",
       "      <td>8.0</td>\n",
       "    </tr>\n",
       "    <tr>\n",
       "      <th>5</th>\n",
       "      <td>50001858</td>\n",
       "      <td>21% - 25%</td>\n",
       "      <td>23.0</td>\n",
       "      <td>5</td>\n",
       "      <td>201711.0</td>\n",
       "      <td>23.0</td>\n",
       "    </tr>\n",
       "    <tr>\n",
       "      <th>6</th>\n",
       "      <td>21040191</td>\n",
       "      <td>46% - 50%</td>\n",
       "      <td>48.0</td>\n",
       "      <td>10</td>\n",
       "      <td>201909.0</td>\n",
       "      <td>18.0</td>\n",
       "    </tr>\n",
       "    <tr>\n",
       "      <th>7</th>\n",
       "      <td>11060357</td>\n",
       "      <td>36% - 40%</td>\n",
       "      <td>38.0</td>\n",
       "      <td>8</td>\n",
       "      <td>201910.0</td>\n",
       "      <td>38.0</td>\n",
       "    </tr>\n",
       "    <tr>\n",
       "      <th>8</th>\n",
       "      <td>50001437</td>\n",
       "      <td>26% - 30%</td>\n",
       "      <td>28.0</td>\n",
       "      <td>6</td>\n",
       "      <td>201908.0</td>\n",
       "      <td>28.0</td>\n",
       "    </tr>\n",
       "    <tr>\n",
       "      <th>9</th>\n",
       "      <td>18002154</td>\n",
       "      <td>11% - 15%</td>\n",
       "      <td>13.0</td>\n",
       "      <td>3</td>\n",
       "      <td>201810.0</td>\n",
       "      <td>13.0</td>\n",
       "    </tr>\n",
       "    <tr>\n",
       "      <th>10</th>\n",
       "      <td>44000032</td>\n",
       "      <td>0% - 5%</td>\n",
       "      <td>3.0</td>\n",
       "      <td>1</td>\n",
       "      <td>201811.0</td>\n",
       "      <td>3.0</td>\n",
       "    </tr>\n",
       "    <tr>\n",
       "      <th>11</th>\n",
       "      <td>09000050</td>\n",
       "      <td>16% - 20%</td>\n",
       "      <td>18.0</td>\n",
       "      <td>4</td>\n",
       "      <td>201811.0</td>\n",
       "      <td>18.0</td>\n",
       "    </tr>\n",
       "    <tr>\n",
       "      <th>12</th>\n",
       "      <td>28000842</td>\n",
       "      <td>0% - 5%</td>\n",
       "      <td>3.0</td>\n",
       "      <td>1</td>\n",
       "      <td>201902.0</td>\n",
       "      <td>3.0</td>\n",
       "    </tr>\n",
       "    <tr>\n",
       "      <th>13</th>\n",
       "      <td>07011042</td>\n",
       "      <td>36% - 40%</td>\n",
       "      <td>38.0</td>\n",
       "      <td>8</td>\n",
       "      <td>201907.0</td>\n",
       "      <td>3.0</td>\n",
       "    </tr>\n",
       "    <tr>\n",
       "      <th>14</th>\n",
       "      <td>13090303</td>\n",
       "      <td>None</td>\n",
       "      <td>0.0</td>\n",
       "      <td>0</td>\n",
       "      <td>201805.0</td>\n",
       "      <td>8.0</td>\n",
       "    </tr>\n",
       "    <tr>\n",
       "      <th>15</th>\n",
       "      <td>23030083</td>\n",
       "      <td>36% - 40%</td>\n",
       "      <td>38.0</td>\n",
       "      <td>8</td>\n",
       "      <td>201908.0</td>\n",
       "      <td>38.0</td>\n",
       "    </tr>\n",
       "    <tr>\n",
       "      <th>16</th>\n",
       "      <td>15171341</td>\n",
       "      <td>None</td>\n",
       "      <td>0.0</td>\n",
       "      <td>0</td>\n",
       "      <td>201807.0</td>\n",
       "      <td>3.0</td>\n",
       "    </tr>\n",
       "    <tr>\n",
       "      <th>17</th>\n",
       "      <td>46002655</td>\n",
       "      <td>21% - 25%</td>\n",
       "      <td>23.0</td>\n",
       "      <td>5</td>\n",
       "      <td>201808.0</td>\n",
       "      <td>48.0</td>\n",
       "    </tr>\n",
       "    <tr>\n",
       "      <th>18</th>\n",
       "      <td>41000365</td>\n",
       "      <td>6% - 10%</td>\n",
       "      <td>8.0</td>\n",
       "      <td>2</td>\n",
       "      <td>201901.0</td>\n",
       "      <td>58.0</td>\n",
       "    </tr>\n",
       "    <tr>\n",
       "      <th>19</th>\n",
       "      <td>25030248</td>\n",
       "      <td>11% - 15%</td>\n",
       "      <td>13.0</td>\n",
       "      <td>3</td>\n",
       "      <td>201905.0</td>\n",
       "      <td>3.0</td>\n",
       "    </tr>\n",
       "    <tr>\n",
       "      <th>20</th>\n",
       "      <td>46003760</td>\n",
       "      <td>0% - 5%</td>\n",
       "      <td>3.0</td>\n",
       "      <td>1</td>\n",
       "      <td>201904.0</td>\n",
       "      <td>3.0</td>\n",
       "    </tr>\n",
       "    <tr>\n",
       "      <th>21</th>\n",
       "      <td>28010080</td>\n",
       "      <td>0% - 5%</td>\n",
       "      <td>3.0</td>\n",
       "      <td>1</td>\n",
       "      <td>201712.0</td>\n",
       "      <td>8.0</td>\n",
       "    </tr>\n",
       "    <tr>\n",
       "      <th>22</th>\n",
       "      <td>07000334</td>\n",
       "      <td>0% - 5%</td>\n",
       "      <td>3.0</td>\n",
       "      <td>1</td>\n",
       "      <td>201805.0</td>\n",
       "      <td>3.0</td>\n",
       "    </tr>\n",
       "    <tr>\n",
       "      <th>23</th>\n",
       "      <td>02000891</td>\n",
       "      <td>11% - 15%</td>\n",
       "      <td>13.0</td>\n",
       "      <td>3</td>\n",
       "      <td>201908.0</td>\n",
       "      <td>8.0</td>\n",
       "    </tr>\n",
       "    <tr>\n",
       "      <th>24</th>\n",
       "      <td>33060286</td>\n",
       "      <td>21% - 25%</td>\n",
       "      <td>23.0</td>\n",
       "      <td>5</td>\n",
       "      <td>201910.0</td>\n",
       "      <td>23.0</td>\n",
       "    </tr>\n",
       "    <tr>\n",
       "      <th>25</th>\n",
       "      <td>46060158</td>\n",
       "      <td>6% - 10%</td>\n",
       "      <td>8.0</td>\n",
       "      <td>2</td>\n",
       "      <td>201909.0</td>\n",
       "      <td>8.0</td>\n",
       "    </tr>\n",
       "    <tr>\n",
       "      <th>26</th>\n",
       "      <td>43010313</td>\n",
       "      <td>None</td>\n",
       "      <td>0.0</td>\n",
       "      <td>0</td>\n",
       "      <td>201710.0</td>\n",
       "      <td>3.0</td>\n",
       "    </tr>\n",
       "    <tr>\n",
       "      <th>27</th>\n",
       "      <td>03010642</td>\n",
       "      <td>11% - 15%</td>\n",
       "      <td>13.0</td>\n",
       "      <td>3</td>\n",
       "      <td>201906.0</td>\n",
       "      <td>13.0</td>\n",
       "    </tr>\n",
       "    <tr>\n",
       "      <th>28</th>\n",
       "      <td>41030271</td>\n",
       "      <td>11% - 15%</td>\n",
       "      <td>13.0</td>\n",
       "      <td>3</td>\n",
       "      <td>201712.0</td>\n",
       "      <td>13.0</td>\n",
       "    </tr>\n",
       "    <tr>\n",
       "      <th>29</th>\n",
       "      <td>11000544</td>\n",
       "      <td>46% - 50%</td>\n",
       "      <td>48.0</td>\n",
       "      <td>10</td>\n",
       "      <td>201803.0</td>\n",
       "      <td>48.0</td>\n",
       "    </tr>\n",
       "  </tbody>\n",
       "</table>\n",
       "</div>"
      ],
      "text/plain": [
       "   CUSTOMER_ID    Sales2C  Sales2C_num  Score       MES  predic\n",
       "0     30070056    0% - 5%          3.0      1  201808.0     3.0\n",
       "1     07007818       None          0.0      0  201806.0     8.0\n",
       "2     04001095       None          0.0      0  201808.0     3.0\n",
       "3     03030624  36% - 40%         38.0      8  201903.0    43.0\n",
       "4     05010129       None          0.0      0  201901.0     8.0\n",
       "5     50001858  21% - 25%         23.0      5  201711.0    23.0\n",
       "6     21040191  46% - 50%         48.0     10  201909.0    18.0\n",
       "7     11060357  36% - 40%         38.0      8  201910.0    38.0\n",
       "8     50001437  26% - 30%         28.0      6  201908.0    28.0\n",
       "9     18002154  11% - 15%         13.0      3  201810.0    13.0\n",
       "10    44000032    0% - 5%          3.0      1  201811.0     3.0\n",
       "11    09000050  16% - 20%         18.0      4  201811.0    18.0\n",
       "12    28000842    0% - 5%          3.0      1  201902.0     3.0\n",
       "13    07011042  36% - 40%         38.0      8  201907.0     3.0\n",
       "14    13090303       None          0.0      0  201805.0     8.0\n",
       "15    23030083  36% - 40%         38.0      8  201908.0    38.0\n",
       "16    15171341       None          0.0      0  201807.0     3.0\n",
       "17    46002655  21% - 25%         23.0      5  201808.0    48.0\n",
       "18    41000365   6% - 10%          8.0      2  201901.0    58.0\n",
       "19    25030248  11% - 15%         13.0      3  201905.0     3.0\n",
       "20    46003760    0% - 5%          3.0      1  201904.0     3.0\n",
       "21    28010080    0% - 5%          3.0      1  201712.0     8.0\n",
       "22    07000334    0% - 5%          3.0      1  201805.0     3.0\n",
       "23    02000891  11% - 15%         13.0      3  201908.0     8.0\n",
       "24    33060286  21% - 25%         23.0      5  201910.0    23.0\n",
       "25    46060158   6% - 10%          8.0      2  201909.0     8.0\n",
       "26    43010313       None          0.0      0  201710.0     3.0\n",
       "27    03010642  11% - 15%         13.0      3  201906.0    13.0\n",
       "28    41030271  11% - 15%         13.0      3  201712.0    13.0\n",
       "29    11000544  46% - 50%         48.0     10  201803.0    48.0"
      ]
     },
     "execution_count": 26,
     "metadata": {},
     "output_type": "execute_result"
    }
   ],
   "source": [
    "Popor_estancos[cat_Feat+['predic']].head(30)"
   ]
  },
  {
   "cell_type": "code",
   "execution_count": 27,
   "metadata": {},
   "outputs": [
    {
     "data": {
      "text/html": [
       "<div>\n",
       "<style scoped>\n",
       "    .dataframe tbody tr th:only-of-type {\n",
       "        vertical-align: middle;\n",
       "    }\n",
       "\n",
       "    .dataframe tbody tr th {\n",
       "        vertical-align: top;\n",
       "    }\n",
       "\n",
       "    .dataframe thead th {\n",
       "        text-align: right;\n",
       "    }\n",
       "</style>\n",
       "<table border=\"1\" class=\"dataframe\">\n",
       "  <thead>\n",
       "    <tr style=\"text-align: right;\">\n",
       "      <th></th>\n",
       "      <th>BLOND_VOL</th>\n",
       "      <th>BLOND_PCK</th>\n",
       "      <th>BLACK_VOL</th>\n",
       "      <th>BLACK_PCK</th>\n",
       "      <th>RYO_VOL</th>\n",
       "      <th>RYO_PCK</th>\n",
       "      <th>CIGAR_VOL</th>\n",
       "      <th>PIPE_VOL</th>\n",
       "      <th>PIPE_PCK</th>\n",
       "      <th>predic</th>\n",
       "    </tr>\n",
       "  </thead>\n",
       "  <tbody>\n",
       "  </tbody>\n",
       "</table>\n",
       "</div>"
      ],
      "text/plain": [
       "Empty DataFrame\n",
       "Columns: [BLOND_VOL, BLOND_PCK, BLACK_VOL, BLACK_PCK, RYO_VOL, RYO_PCK, CIGAR_VOL, PIPE_VOL, PIPE_PCK, predic]\n",
       "Index: []"
      ]
     },
     "execution_count": 27,
     "metadata": {},
     "output_type": "execute_result"
    }
   ],
   "source": [
    "Popor_estancos [Popor_estancos.CUSTOMER_ID==36002350][feats_to_explore+['predic']]"
   ]
  },
  {
   "cell_type": "code",
   "execution_count": 28,
   "metadata": {},
   "outputs": [],
   "source": [
    "Output=r'../02_AuxData/01_Vending_Predic_Prop.csv'"
   ]
  },
  {
   "cell_type": "code",
   "execution_count": 29,
   "metadata": {},
   "outputs": [],
   "source": [
    "Popor_estancos[['CUSTOMER_ID', 'MES', 'Sales2C_num', 'predic']].to_csv(Output , sep='|', index=False) \n"
   ]
  },
  {
   "cell_type": "code",
   "execution_count": 30,
   "metadata": {},
   "outputs": [],
   "source": [
    "#Duracion 7 min\n",
    "    "
   ]
  },
  {
   "cell_type": "markdown",
   "metadata": {},
   "source": [
    "## Resultado:\n",
    "\n",
    "la prediccion obtenida en el fichero 01_Vending_Predic_Prop.csv, se guardara en BBDD para la transformación final de los Datos"
   ]
  },
  {
   "cell_type": "code",
   "execution_count": null,
   "metadata": {},
   "outputs": [],
   "source": []
  },
  {
   "cell_type": "code",
   "execution_count": null,
   "metadata": {},
   "outputs": [],
   "source": []
  }
 ],
 "metadata": {
  "kernelspec": {
   "display_name": "Python 3",
   "language": "python",
   "name": "python3"
  },
  "language_info": {
   "codemirror_mode": {
    "name": "ipython",
    "version": 3
   },
   "file_extension": ".py",
   "mimetype": "text/x-python",
   "name": "python",
   "nbconvert_exporter": "python",
   "pygments_lexer": "ipython3",
   "version": "3.6.8"
  }
 },
 "nbformat": 4,
 "nbformat_minor": 2
}
