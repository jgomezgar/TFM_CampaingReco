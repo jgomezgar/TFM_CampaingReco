{
 "cells": [
  {
   "cell_type": "code",
   "execution_count": 1,
   "metadata": {},
   "outputs": [
    {
     "name": "stdout",
     "output_type": "stream",
     "text": [
      "Once deleted, variables cannot be recovered. Proceed (y/[n])? y\n",
      "Don't know how to reset  (), please run `%reset?` for details\n"
     ]
    }
   ],
   "source": [
    "reset()"
   ]
  },
  {
   "cell_type": "code",
   "execution_count": 2,
   "metadata": {},
   "outputs": [],
   "source": [
    "import pandas as pd\n",
    "import numpy as np\n",
    "import pyodbc "
   ]
  },
  {
   "cell_type": "code",
   "execution_count": 3,
   "metadata": {},
   "outputs": [],
   "source": [
    "QueryFile = '../00_AuxSQL/01.Vending_Propor.sql'\n",
    "\n",
    "fd = open(QueryFile,'r', encoding='utf-16')\n",
    "Query = fd.read()\n",
    "fd.close()"
   ]
  },
  {
   "cell_type": "code",
   "execution_count": 4,
   "metadata": {},
   "outputs": [
    {
     "name": "stdout",
     "output_type": "stream",
     "text": [
      "Wall time: 1.56 s\n"
     ]
    }
   ],
   "source": [
    "%%time\n",
    "conn = pyodbc.connect('Driver={SQL Server};'\n",
    "                      'Server=esmz08srdb009;'\n",
    "                      'Database=ITE_PRD;'\n",
    "                      'Trusted_Connection=yes;')\n",
    "\n",
    "cursor = conn.cursor()\n"
   ]
  },
  {
   "cell_type": "code",
   "execution_count": 5,
   "metadata": {},
   "outputs": [
    {
     "name": "stdout",
     "output_type": "stream",
     "text": [
      "Wall time: 1min 52s\n"
     ]
    }
   ],
   "source": [
    "%%time\n",
    "Popor_estancos = pd.read_sql(Query,conn)"
   ]
  },
  {
   "cell_type": "markdown",
   "metadata": {},
   "source": [
    "inputcsv=r'https://spainblob.blob.core.windows.net/altadis/Vending_Proportions.csv'\n",
    "\n",
    "Popor_estancos = pd.read_csv(inputcsv) \n"
   ]
  },
  {
   "cell_type": "code",
   "execution_count": 6,
   "metadata": {},
   "outputs": [
    {
     "data": {
      "text/plain": [
       "Index(['CUSTOMER_ID', 'Sales2C', 'Sales2C_num', 'MES', 'BLOND_VOL',\n",
       "       'BLOND_PCK', 'BLACK_VOL', 'BLACK_PCK', 'RYO_VOL', 'RYO_PCK',\n",
       "       'CIGAR_VOL', 'PIPE_VOL', 'PIPE_PCK'],\n",
       "      dtype='object')"
      ]
     },
     "execution_count": 6,
     "metadata": {},
     "output_type": "execute_result"
    }
   ],
   "source": [
    "Popor_estancos.columns"
   ]
  },
  {
   "cell_type": "code",
   "execution_count": 7,
   "metadata": {},
   "outputs": [
    {
     "data": {
      "text/html": [
       "<div>\n",
       "<style scoped>\n",
       "    .dataframe tbody tr th:only-of-type {\n",
       "        vertical-align: middle;\n",
       "    }\n",
       "\n",
       "    .dataframe tbody tr th {\n",
       "        vertical-align: top;\n",
       "    }\n",
       "\n",
       "    .dataframe thead th {\n",
       "        text-align: right;\n",
       "    }\n",
       "</style>\n",
       "<table border=\"1\" class=\"dataframe\">\n",
       "  <thead>\n",
       "    <tr style=\"text-align: right;\">\n",
       "      <th></th>\n",
       "      <th>CUSTOMER_ID</th>\n",
       "      <th>Sales2C</th>\n",
       "      <th>Sales2C_num</th>\n",
       "      <th>MES</th>\n",
       "      <th>BLOND_VOL</th>\n",
       "      <th>BLOND_PCK</th>\n",
       "      <th>BLACK_VOL</th>\n",
       "      <th>BLACK_PCK</th>\n",
       "      <th>RYO_VOL</th>\n",
       "      <th>RYO_PCK</th>\n",
       "      <th>CIGAR_VOL</th>\n",
       "      <th>PIPE_VOL</th>\n",
       "      <th>PIPE_PCK</th>\n",
       "    </tr>\n",
       "  </thead>\n",
       "  <tbody>\n",
       "    <tr>\n",
       "      <th>0</th>\n",
       "      <td>48002257</td>\n",
       "      <td>None</td>\n",
       "      <td>0.0</td>\n",
       "      <td>201808.0</td>\n",
       "      <td>821560.0</td>\n",
       "      <td>41078.0</td>\n",
       "      <td>0.126101</td>\n",
       "      <td>0.124981</td>\n",
       "      <td>0.101739</td>\n",
       "      <td>0.061857</td>\n",
       "      <td>0.022591</td>\n",
       "      <td>0.006877</td>\n",
       "      <td>0.003359</td>\n",
       "    </tr>\n",
       "    <tr>\n",
       "      <th>1</th>\n",
       "      <td>22050306</td>\n",
       "      <td>None</td>\n",
       "      <td>0.0</td>\n",
       "      <td>201806.0</td>\n",
       "      <td>86000.0</td>\n",
       "      <td>4300.0</td>\n",
       "      <td>0.260465</td>\n",
       "      <td>0.260465</td>\n",
       "      <td>0.147139</td>\n",
       "      <td>0.073953</td>\n",
       "      <td>0.161627</td>\n",
       "      <td>0.000000</td>\n",
       "      <td>0.000000</td>\n",
       "    </tr>\n",
       "    <tr>\n",
       "      <th>2</th>\n",
       "      <td>27010321</td>\n",
       "      <td>None</td>\n",
       "      <td>0.0</td>\n",
       "      <td>201807.0</td>\n",
       "      <td>114224.0</td>\n",
       "      <td>5686.0</td>\n",
       "      <td>0.133071</td>\n",
       "      <td>0.133661</td>\n",
       "      <td>0.018822</td>\n",
       "      <td>0.007914</td>\n",
       "      <td>0.036113</td>\n",
       "      <td>0.000000</td>\n",
       "      <td>0.000000</td>\n",
       "    </tr>\n",
       "    <tr>\n",
       "      <th>3</th>\n",
       "      <td>50040161</td>\n",
       "      <td>None</td>\n",
       "      <td>0.0</td>\n",
       "      <td>201806.0</td>\n",
       "      <td>184696.0</td>\n",
       "      <td>9212.0</td>\n",
       "      <td>0.045480</td>\n",
       "      <td>0.045592</td>\n",
       "      <td>0.084950</td>\n",
       "      <td>0.035931</td>\n",
       "      <td>0.043585</td>\n",
       "      <td>0.019708</td>\n",
       "      <td>0.005644</td>\n",
       "    </tr>\n",
       "    <tr>\n",
       "      <th>4</th>\n",
       "      <td>04060133</td>\n",
       "      <td>81% - 85%</td>\n",
       "      <td>83.0</td>\n",
       "      <td>201810.0</td>\n",
       "      <td>243528.0</td>\n",
       "      <td>12102.0</td>\n",
       "      <td>0.016425</td>\n",
       "      <td>0.016526</td>\n",
       "      <td>0.394771</td>\n",
       "      <td>0.198314</td>\n",
       "      <td>0.062046</td>\n",
       "      <td>0.016425</td>\n",
       "      <td>0.006610</td>\n",
       "    </tr>\n",
       "  </tbody>\n",
       "</table>\n",
       "</div>"
      ],
      "text/plain": [
       "  CUSTOMER_ID    Sales2C  Sales2C_num       MES  BLOND_VOL  BLOND_PCK  \\\n",
       "0    48002257       None          0.0  201808.0   821560.0    41078.0   \n",
       "1    22050306       None          0.0  201806.0    86000.0     4300.0   \n",
       "2    27010321       None          0.0  201807.0   114224.0     5686.0   \n",
       "3    50040161       None          0.0  201806.0   184696.0     9212.0   \n",
       "4    04060133  81% - 85%         83.0  201810.0   243528.0    12102.0   \n",
       "\n",
       "   BLACK_VOL  BLACK_PCK   RYO_VOL   RYO_PCK  CIGAR_VOL  PIPE_VOL  PIPE_PCK  \n",
       "0   0.126101   0.124981  0.101739  0.061857   0.022591  0.006877  0.003359  \n",
       "1   0.260465   0.260465  0.147139  0.073953   0.161627  0.000000  0.000000  \n",
       "2   0.133071   0.133661  0.018822  0.007914   0.036113  0.000000  0.000000  \n",
       "3   0.045480   0.045592  0.084950  0.035931   0.043585  0.019708  0.005644  \n",
       "4   0.016425   0.016526  0.394771  0.198314   0.062046  0.016425  0.006610  "
      ]
     },
     "execution_count": 7,
     "metadata": {},
     "output_type": "execute_result"
    }
   ],
   "source": [
    "Popor_estancos.head()"
   ]
  },
  {
   "cell_type": "code",
   "execution_count": 8,
   "metadata": {},
   "outputs": [],
   "source": [
    "#feats_to_explore=['BLOND_VOL', 'BLOND_PCK', 'BLACK_VOL', 'BLACK_PCK', 'RYO_VOL', 'RYO_PCK', 'CIGAR_VOL', 'PIPE_VOL', 'PIPE_PCK']\n",
    "feats_to_explore=[ 'BLOND_PCK',  'BLACK_PCK', 'RYO_PCK', 'CIGAR_VOL', 'PIPE_PCK']\n",
    "labels= ['0% - 5%', '6% - 10%', '11% - 15%', '16% - 20%', '21% - 25%', '26% - 30%', '31% - 35%', '36% - 40%', '41% - 45%', '46% - 50%', '51% - 55%', '56% - 60%','61% - 65%', '66% - 70%', '71% - 75%', '76% - 80%', '81% - 85%', '86% - 90%', '91% - 95%', '96% - 100%']\n"
   ]
  },
  {
   "cell_type": "code",
   "execution_count": 9,
   "metadata": {},
   "outputs": [
    {
     "data": {
      "text/plain": [
       "(313512, 13)"
      ]
     },
     "execution_count": 9,
     "metadata": {},
     "output_type": "execute_result"
    }
   ],
   "source": [
    "Popor_estancos.shape"
   ]
  },
  {
   "cell_type": "code",
   "execution_count": 10,
   "metadata": {},
   "outputs": [],
   "source": [
    "from sklearn import preprocessing\n",
    "\n",
    "lab_enc = preprocessing.LabelEncoder()\n",
    "Score = lab_enc.fit_transform( Popor_estancos['Sales2C_num'])\n",
    "Popor_estancos['Score']=Score\n"
   ]
  },
  {
   "cell_type": "code",
   "execution_count": 11,
   "metadata": {},
   "outputs": [],
   "source": [
    "data=Popor_estancos"
   ]
  },
  {
   "cell_type": "code",
   "execution_count": 12,
   "metadata": {},
   "outputs": [],
   "source": [
    "data=data.dropna()"
   ]
  },
  {
   "cell_type": "code",
   "execution_count": 13,
   "metadata": {},
   "outputs": [
    {
     "data": {
      "text/plain": [
       "(251267, 14)"
      ]
     },
     "execution_count": 13,
     "metadata": {},
     "output_type": "execute_result"
    }
   ],
   "source": [
    "data.shape"
   ]
  },
  {
   "cell_type": "markdown",
   "metadata": {},
   "source": [
    "# Entrenamiento con muestra restrictiva.\n",
    "Dado que el % de ventas al segundo canal es declarativo, tomare solamente los valores mas \"fialbles\", esto es, eliminaré outliers de forma muy restritctiva(33%-66%), con estos datos, entrenaré el modelo."
   ]
  },
  {
   "cell_type": "markdown",
   "metadata": {},
   "source": [
    "### dataset sin outliers"
   ]
  },
  {
   "cell_type": "code",
   "execution_count": 14,
   "metadata": {},
   "outputs": [],
   "source": [
    "#dataset sin outliers\n",
    "\n",
    "cat_Feat=['CUSTOMER_ID','Sales2C','Sales2C_num','Score','MES']\n",
    "cat_data = data[cat_Feat]\n",
    "\n",
    "num_data =data[feats_to_explore]\n"
   ]
  },
  {
   "cell_type": "code",
   "execution_count": 15,
   "metadata": {},
   "outputs": [],
   "source": [
    "from scipy import stats\n",
    "\n",
    "idx = np.all(stats.zscore(num_data) < 3, axis=1)\n",
    "Data_cleaned = pd.concat([num_data.loc[idx], cat_data.loc[idx]], axis=1)"
   ]
  },
  {
   "cell_type": "code",
   "execution_count": 16,
   "metadata": {},
   "outputs": [],
   "source": [
    "# Restrictive Tiles\n",
    "Q1 = num_data.quantile(0.33)\n",
    "Q3 = num_data.quantile(0.66)\n",
    "IQR = Q3 - Q1\n",
    "idx = ~((num_data < (Q1 - 1.5 * IQR)) | (num_data > (Q3 + 1.5 * IQR))).any(axis=1)\n",
    "Data_cleaned = pd.concat([cat_data.loc[idx], num_data.loc[idx]], axis=1)"
   ]
  },
  {
   "cell_type": "code",
   "execution_count": 17,
   "metadata": {},
   "outputs": [
    {
     "name": "stdout",
     "output_type": "stream",
     "text": [
      "(140051, 10)\n",
      "DataSet sin outliers: 55.74 %\n"
     ]
    }
   ],
   "source": [
    "print (Data_cleaned.shape)\n",
    "print('DataSet sin outliers:',round(100*Data_cleaned.shape[0]/ data.shape[0],2),'%')"
   ]
  },
  {
   "cell_type": "code",
   "execution_count": 18,
   "metadata": {},
   "outputs": [],
   "source": [
    "from sklearn.model_selection import train_test_split\n",
    "\n",
    "Score = lab_enc.fit_transform( Data_cleaned['Sales2C_num'])\n",
    "\n",
    "X_train, X_test, y_train, y_test = train_test_split(Data_cleaned[feats_to_explore], Score, test_size=0.1, random_state=2019, stratify=Data_cleaned['Sales2C_num'])"
   ]
  },
  {
   "cell_type": "code",
   "execution_count": null,
   "metadata": {},
   "outputs": [],
   "source": []
  },
  {
   "cell_type": "markdown",
   "metadata": {},
   "source": [
    "# RANDOM FOREST"
   ]
  },
  {
   "cell_type": "code",
   "execution_count": 19,
   "metadata": {},
   "outputs": [
    {
     "name": "stdout",
     "output_type": "stream",
     "text": [
      "Wall time: 5min 51s\n"
     ]
    }
   ],
   "source": [
    "%%time\n",
    "from sklearn.ensemble import RandomForestClassifier\n",
    "\n",
    "#Create Classifier\n",
    "n_estimators=400\n",
    "rfc=RandomForestClassifier(n_estimators=n_estimators,  oob_score = True)\n",
    "rfc.fit( X_train, y_train);"
   ]
  },
  {
   "cell_type": "code",
   "execution_count": 20,
   "metadata": {},
   "outputs": [
    {
     "name": "stdout",
     "output_type": "stream",
     "text": [
      "400 : Train Score: 99.85%\n",
      "400 : out-of-bag Score: 47.77%\n",
      "400 : Test Score: 48.21%\n"
     ]
    }
   ],
   "source": [
    "print(n_estimators, ': Train Score: {:.2f}%'.format( rfc.score( X_train, y_train)*100))\n",
    "print(n_estimators, ': out-of-bag Score: {:.2f}%'.format(rfc.oob_score_*100))\n",
    "print(n_estimators, ': Test Score: {:.2f}%'.format(rfc.score(X_test, y_test)*100))"
   ]
  },
  {
   "cell_type": "code",
   "execution_count": 21,
   "metadata": {},
   "outputs": [
    {
     "data": {
      "text/plain": [
       "Index(['BLOND_PCK', 'BLACK_PCK', 'RYO_PCK', 'CIGAR_VOL', 'PIPE_PCK'], dtype='object')"
      ]
     },
     "execution_count": 21,
     "metadata": {},
     "output_type": "execute_result"
    }
   ],
   "source": [
    "X_train.columns"
   ]
  },
  {
   "cell_type": "markdown",
   "metadata": {},
   "source": [
    "# Predicción sobre el conjunto de datos completo"
   ]
  },
  {
   "cell_type": "code",
   "execution_count": 22,
   "metadata": {},
   "outputs": [
    {
     "name": "stdout",
     "output_type": "stream",
     "text": [
      "Wall time: 1min 46s\n"
     ]
    }
   ],
   "source": [
    "%%time\n",
    "predic = rfc.predict(Popor_estancos[feats_to_explore])"
   ]
  },
  {
   "cell_type": "code",
   "execution_count": 23,
   "metadata": {},
   "outputs": [
    {
     "data": {
      "text/plain": [
       "((313512,), (313512, 14))"
      ]
     },
     "execution_count": 23,
     "metadata": {},
     "output_type": "execute_result"
    }
   ],
   "source": [
    "predic.shape, Popor_estancos.shape"
   ]
  },
  {
   "cell_type": "code",
   "execution_count": 24,
   "metadata": {},
   "outputs": [],
   "source": [
    "Popor_estancos['predic_ID']=predic\n",
    "Popor_estancos['predic']=lab_enc.inverse_transform(predic)"
   ]
  },
  {
   "cell_type": "code",
   "execution_count": 25,
   "metadata": {},
   "outputs": [
    {
     "data": {
      "text/plain": [
       "CUSTOMER_ID    0.517601\n",
       "Sales2C        0.517601\n",
       "Sales2C_num    0.517601\n",
       "MES            0.517601\n",
       "BLOND_VOL      0.517601\n",
       "BLOND_PCK      0.517601\n",
       "BLACK_VOL      0.517601\n",
       "BLACK_PCK      0.517601\n",
       "RYO_VOL        0.517601\n",
       "RYO_PCK        0.517601\n",
       "CIGAR_VOL      0.517601\n",
       "PIPE_VOL       0.517601\n",
       "PIPE_PCK       0.517601\n",
       "Score          0.517601\n",
       "predic_ID      0.517601\n",
       "predic         0.517601\n",
       "dtype: float64"
      ]
     },
     "execution_count": 25,
     "metadata": {},
     "output_type": "execute_result"
    }
   ],
   "source": [
    "Popor_estancos[Popor_estancos.predic == Popor_estancos.Sales2C_num].count()/Popor_estancos.shape[0]"
   ]
  },
  {
   "cell_type": "code",
   "execution_count": 26,
   "metadata": {},
   "outputs": [
    {
     "data": {
      "text/html": [
       "<div>\n",
       "<style scoped>\n",
       "    .dataframe tbody tr th:only-of-type {\n",
       "        vertical-align: middle;\n",
       "    }\n",
       "\n",
       "    .dataframe tbody tr th {\n",
       "        vertical-align: top;\n",
       "    }\n",
       "\n",
       "    .dataframe thead th {\n",
       "        text-align: right;\n",
       "    }\n",
       "</style>\n",
       "<table border=\"1\" class=\"dataframe\">\n",
       "  <thead>\n",
       "    <tr style=\"text-align: right;\">\n",
       "      <th></th>\n",
       "      <th>CUSTOMER_ID</th>\n",
       "      <th>Sales2C</th>\n",
       "      <th>Sales2C_num</th>\n",
       "      <th>Score</th>\n",
       "      <th>MES</th>\n",
       "      <th>predic</th>\n",
       "    </tr>\n",
       "  </thead>\n",
       "  <tbody>\n",
       "    <tr>\n",
       "      <th>0</th>\n",
       "      <td>48002257</td>\n",
       "      <td>None</td>\n",
       "      <td>0.0</td>\n",
       "      <td>0</td>\n",
       "      <td>201808.0</td>\n",
       "      <td>8.0</td>\n",
       "    </tr>\n",
       "    <tr>\n",
       "      <th>1</th>\n",
       "      <td>22050306</td>\n",
       "      <td>None</td>\n",
       "      <td>0.0</td>\n",
       "      <td>0</td>\n",
       "      <td>201806.0</td>\n",
       "      <td>3.0</td>\n",
       "    </tr>\n",
       "    <tr>\n",
       "      <th>2</th>\n",
       "      <td>27010321</td>\n",
       "      <td>None</td>\n",
       "      <td>0.0</td>\n",
       "      <td>0</td>\n",
       "      <td>201807.0</td>\n",
       "      <td>8.0</td>\n",
       "    </tr>\n",
       "    <tr>\n",
       "      <th>3</th>\n",
       "      <td>50040161</td>\n",
       "      <td>None</td>\n",
       "      <td>0.0</td>\n",
       "      <td>0</td>\n",
       "      <td>201806.0</td>\n",
       "      <td>3.0</td>\n",
       "    </tr>\n",
       "    <tr>\n",
       "      <th>4</th>\n",
       "      <td>04060133</td>\n",
       "      <td>81% - 85%</td>\n",
       "      <td>83.0</td>\n",
       "      <td>17</td>\n",
       "      <td>201810.0</td>\n",
       "      <td>8.0</td>\n",
       "    </tr>\n",
       "    <tr>\n",
       "      <th>5</th>\n",
       "      <td>28007953</td>\n",
       "      <td>41% - 45%</td>\n",
       "      <td>43.0</td>\n",
       "      <td>9</td>\n",
       "      <td>201811.0</td>\n",
       "      <td>33.0</td>\n",
       "    </tr>\n",
       "    <tr>\n",
       "      <th>6</th>\n",
       "      <td>30060339</td>\n",
       "      <td>None</td>\n",
       "      <td>0.0</td>\n",
       "      <td>0</td>\n",
       "      <td>201904.0</td>\n",
       "      <td>3.0</td>\n",
       "    </tr>\n",
       "    <tr>\n",
       "      <th>7</th>\n",
       "      <td>26000869</td>\n",
       "      <td>None</td>\n",
       "      <td>0.0</td>\n",
       "      <td>0</td>\n",
       "      <td>201712.0</td>\n",
       "      <td>8.0</td>\n",
       "    </tr>\n",
       "    <tr>\n",
       "      <th>8</th>\n",
       "      <td>45120656</td>\n",
       "      <td>None</td>\n",
       "      <td>0.0</td>\n",
       "      <td>0</td>\n",
       "      <td>201712.0</td>\n",
       "      <td>3.0</td>\n",
       "    </tr>\n",
       "    <tr>\n",
       "      <th>9</th>\n",
       "      <td>27100692</td>\n",
       "      <td>26% - 30%</td>\n",
       "      <td>28.0</td>\n",
       "      <td>6</td>\n",
       "      <td>201712.0</td>\n",
       "      <td>23.0</td>\n",
       "    </tr>\n",
       "    <tr>\n",
       "      <th>10</th>\n",
       "      <td>18000224</td>\n",
       "      <td>36% - 40%</td>\n",
       "      <td>38.0</td>\n",
       "      <td>8</td>\n",
       "      <td>201803.0</td>\n",
       "      <td>38.0</td>\n",
       "    </tr>\n",
       "    <tr>\n",
       "      <th>11</th>\n",
       "      <td>32000432</td>\n",
       "      <td>11% - 15%</td>\n",
       "      <td>13.0</td>\n",
       "      <td>3</td>\n",
       "      <td>201907.0</td>\n",
       "      <td>13.0</td>\n",
       "    </tr>\n",
       "    <tr>\n",
       "      <th>12</th>\n",
       "      <td>28030401</td>\n",
       "      <td>51% - 55%</td>\n",
       "      <td>53.0</td>\n",
       "      <td>11</td>\n",
       "      <td>201809.0</td>\n",
       "      <td>48.0</td>\n",
       "    </tr>\n",
       "    <tr>\n",
       "      <th>13</th>\n",
       "      <td>48001226</td>\n",
       "      <td>21% - 25%</td>\n",
       "      <td>23.0</td>\n",
       "      <td>5</td>\n",
       "      <td>201809.0</td>\n",
       "      <td>33.0</td>\n",
       "    </tr>\n",
       "    <tr>\n",
       "      <th>14</th>\n",
       "      <td>08050205</td>\n",
       "      <td>21% - 25%</td>\n",
       "      <td>23.0</td>\n",
       "      <td>5</td>\n",
       "      <td>201812.0</td>\n",
       "      <td>13.0</td>\n",
       "    </tr>\n",
       "    <tr>\n",
       "      <th>15</th>\n",
       "      <td>08002800</td>\n",
       "      <td>36% - 40%</td>\n",
       "      <td>38.0</td>\n",
       "      <td>8</td>\n",
       "      <td>201901.0</td>\n",
       "      <td>38.0</td>\n",
       "    </tr>\n",
       "    <tr>\n",
       "      <th>16</th>\n",
       "      <td>28006492</td>\n",
       "      <td>11% - 15%</td>\n",
       "      <td>13.0</td>\n",
       "      <td>3</td>\n",
       "      <td>201901.0</td>\n",
       "      <td>3.0</td>\n",
       "    </tr>\n",
       "    <tr>\n",
       "      <th>17</th>\n",
       "      <td>40000135</td>\n",
       "      <td>36% - 40%</td>\n",
       "      <td>38.0</td>\n",
       "      <td>8</td>\n",
       "      <td>201901.0</td>\n",
       "      <td>38.0</td>\n",
       "    </tr>\n",
       "    <tr>\n",
       "      <th>18</th>\n",
       "      <td>02040087</td>\n",
       "      <td>0% - 5%</td>\n",
       "      <td>3.0</td>\n",
       "      <td>1</td>\n",
       "      <td>201801.0</td>\n",
       "      <td>3.0</td>\n",
       "    </tr>\n",
       "    <tr>\n",
       "      <th>19</th>\n",
       "      <td>03001161</td>\n",
       "      <td>6% - 10%</td>\n",
       "      <td>8.0</td>\n",
       "      <td>2</td>\n",
       "      <td>201802.0</td>\n",
       "      <td>98.0</td>\n",
       "    </tr>\n",
       "    <tr>\n",
       "      <th>20</th>\n",
       "      <td>17060393</td>\n",
       "      <td>0% - 5%</td>\n",
       "      <td>3.0</td>\n",
       "      <td>1</td>\n",
       "      <td>201801.0</td>\n",
       "      <td>3.0</td>\n",
       "    </tr>\n",
       "    <tr>\n",
       "      <th>21</th>\n",
       "      <td>30000889</td>\n",
       "      <td>0% - 5%</td>\n",
       "      <td>3.0</td>\n",
       "      <td>1</td>\n",
       "      <td>201907.0</td>\n",
       "      <td>3.0</td>\n",
       "    </tr>\n",
       "    <tr>\n",
       "      <th>22</th>\n",
       "      <td>15140197</td>\n",
       "      <td>None</td>\n",
       "      <td>0.0</td>\n",
       "      <td>0</td>\n",
       "      <td>201711.0</td>\n",
       "      <td>8.0</td>\n",
       "    </tr>\n",
       "    <tr>\n",
       "      <th>23</th>\n",
       "      <td>20000956</td>\n",
       "      <td>None</td>\n",
       "      <td>0.0</td>\n",
       "      <td>0</td>\n",
       "      <td>201711.0</td>\n",
       "      <td>8.0</td>\n",
       "    </tr>\n",
       "    <tr>\n",
       "      <th>24</th>\n",
       "      <td>20040176</td>\n",
       "      <td>None</td>\n",
       "      <td>0.0</td>\n",
       "      <td>0</td>\n",
       "      <td>201803.0</td>\n",
       "      <td>3.0</td>\n",
       "    </tr>\n",
       "    <tr>\n",
       "      <th>25</th>\n",
       "      <td>28071074</td>\n",
       "      <td>31% - 35%</td>\n",
       "      <td>33.0</td>\n",
       "      <td>7</td>\n",
       "      <td>201805.0</td>\n",
       "      <td>8.0</td>\n",
       "    </tr>\n",
       "    <tr>\n",
       "      <th>26</th>\n",
       "      <td>17001059</td>\n",
       "      <td>66% - 70%</td>\n",
       "      <td>68.0</td>\n",
       "      <td>14</td>\n",
       "      <td>201805.0</td>\n",
       "      <td>68.0</td>\n",
       "    </tr>\n",
       "    <tr>\n",
       "      <th>27</th>\n",
       "      <td>25000357</td>\n",
       "      <td>11% - 15%</td>\n",
       "      <td>13.0</td>\n",
       "      <td>3</td>\n",
       "      <td>201805.0</td>\n",
       "      <td>3.0</td>\n",
       "    </tr>\n",
       "    <tr>\n",
       "      <th>28</th>\n",
       "      <td>29060068</td>\n",
       "      <td>0% - 5%</td>\n",
       "      <td>3.0</td>\n",
       "      <td>1</td>\n",
       "      <td>201909.0</td>\n",
       "      <td>18.0</td>\n",
       "    </tr>\n",
       "    <tr>\n",
       "      <th>29</th>\n",
       "      <td>31000508</td>\n",
       "      <td>11% - 15%</td>\n",
       "      <td>13.0</td>\n",
       "      <td>3</td>\n",
       "      <td>201908.0</td>\n",
       "      <td>3.0</td>\n",
       "    </tr>\n",
       "  </tbody>\n",
       "</table>\n",
       "</div>"
      ],
      "text/plain": [
       "   CUSTOMER_ID    Sales2C  Sales2C_num  Score       MES  predic\n",
       "0     48002257       None          0.0      0  201808.0     8.0\n",
       "1     22050306       None          0.0      0  201806.0     3.0\n",
       "2     27010321       None          0.0      0  201807.0     8.0\n",
       "3     50040161       None          0.0      0  201806.0     3.0\n",
       "4     04060133  81% - 85%         83.0     17  201810.0     8.0\n",
       "5     28007953  41% - 45%         43.0      9  201811.0    33.0\n",
       "6     30060339       None          0.0      0  201904.0     3.0\n",
       "7     26000869       None          0.0      0  201712.0     8.0\n",
       "8     45120656       None          0.0      0  201712.0     3.0\n",
       "9     27100692  26% - 30%         28.0      6  201712.0    23.0\n",
       "10    18000224  36% - 40%         38.0      8  201803.0    38.0\n",
       "11    32000432  11% - 15%         13.0      3  201907.0    13.0\n",
       "12    28030401  51% - 55%         53.0     11  201809.0    48.0\n",
       "13    48001226  21% - 25%         23.0      5  201809.0    33.0\n",
       "14    08050205  21% - 25%         23.0      5  201812.0    13.0\n",
       "15    08002800  36% - 40%         38.0      8  201901.0    38.0\n",
       "16    28006492  11% - 15%         13.0      3  201901.0     3.0\n",
       "17    40000135  36% - 40%         38.0      8  201901.0    38.0\n",
       "18    02040087    0% - 5%          3.0      1  201801.0     3.0\n",
       "19    03001161   6% - 10%          8.0      2  201802.0    98.0\n",
       "20    17060393    0% - 5%          3.0      1  201801.0     3.0\n",
       "21    30000889    0% - 5%          3.0      1  201907.0     3.0\n",
       "22    15140197       None          0.0      0  201711.0     8.0\n",
       "23    20000956       None          0.0      0  201711.0     8.0\n",
       "24    20040176       None          0.0      0  201803.0     3.0\n",
       "25    28071074  31% - 35%         33.0      7  201805.0     8.0\n",
       "26    17001059  66% - 70%         68.0     14  201805.0    68.0\n",
       "27    25000357  11% - 15%         13.0      3  201805.0     3.0\n",
       "28    29060068    0% - 5%          3.0      1  201909.0    18.0\n",
       "29    31000508  11% - 15%         13.0      3  201908.0     3.0"
      ]
     },
     "execution_count": 26,
     "metadata": {},
     "output_type": "execute_result"
    }
   ],
   "source": [
    "Popor_estancos[cat_Feat+['predic']].head(30)"
   ]
  },
  {
   "cell_type": "code",
   "execution_count": 27,
   "metadata": {},
   "outputs": [
    {
     "data": {
      "text/html": [
       "<div>\n",
       "<style scoped>\n",
       "    .dataframe tbody tr th:only-of-type {\n",
       "        vertical-align: middle;\n",
       "    }\n",
       "\n",
       "    .dataframe tbody tr th {\n",
       "        vertical-align: top;\n",
       "    }\n",
       "\n",
       "    .dataframe thead th {\n",
       "        text-align: right;\n",
       "    }\n",
       "</style>\n",
       "<table border=\"1\" class=\"dataframe\">\n",
       "  <thead>\n",
       "    <tr style=\"text-align: right;\">\n",
       "      <th></th>\n",
       "      <th>BLOND_PCK</th>\n",
       "      <th>BLACK_PCK</th>\n",
       "      <th>RYO_PCK</th>\n",
       "      <th>CIGAR_VOL</th>\n",
       "      <th>PIPE_PCK</th>\n",
       "      <th>predic</th>\n",
       "    </tr>\n",
       "  </thead>\n",
       "  <tbody>\n",
       "  </tbody>\n",
       "</table>\n",
       "</div>"
      ],
      "text/plain": [
       "Empty DataFrame\n",
       "Columns: [BLOND_PCK, BLACK_PCK, RYO_PCK, CIGAR_VOL, PIPE_PCK, predic]\n",
       "Index: []"
      ]
     },
     "execution_count": 27,
     "metadata": {},
     "output_type": "execute_result"
    }
   ],
   "source": [
    "Popor_estancos [Popor_estancos.CUSTOMER_ID==36002350][feats_to_explore+['predic']]"
   ]
  },
  {
   "cell_type": "code",
   "execution_count": 28,
   "metadata": {},
   "outputs": [],
   "source": [
    "Output=r'../02_AuxData/01_Vending_Predic_Prop.csv'"
   ]
  },
  {
   "cell_type": "code",
   "execution_count": 29,
   "metadata": {},
   "outputs": [],
   "source": [
    "Popor_estancos[['CUSTOMER_ID', 'MES', 'Sales2C_num', 'predic']].to_csv(Output , sep='|', index=False) \n"
   ]
  },
  {
   "cell_type": "code",
   "execution_count": 30,
   "metadata": {},
   "outputs": [],
   "source": [
    "#Duracion 7 min\n",
    "    "
   ]
  },
  {
   "cell_type": "markdown",
   "metadata": {},
   "source": [
    "## Resultado:\n",
    "\n",
    "la prediccion obtenida en el fichero 01_Vending_Predic_Prop.csv, se guardara en BBDD para la transformación final de los Datos"
   ]
  },
  {
   "cell_type": "code",
   "execution_count": null,
   "metadata": {},
   "outputs": [],
   "source": []
  },
  {
   "cell_type": "code",
   "execution_count": null,
   "metadata": {},
   "outputs": [],
   "source": []
  }
 ],
 "metadata": {
  "kernelspec": {
   "display_name": "Python 3",
   "language": "python",
   "name": "python3"
  },
  "language_info": {
   "codemirror_mode": {
    "name": "ipython",
    "version": 3
   },
   "file_extension": ".py",
   "mimetype": "text/x-python",
   "name": "python",
   "nbconvert_exporter": "python",
   "pygments_lexer": "ipython3",
   "version": "3.6.8"
  }
 },
 "nbformat": 4,
 "nbformat_minor": 2
}
