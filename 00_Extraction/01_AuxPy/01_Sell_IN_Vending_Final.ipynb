{
 "cells": [
  {
   "cell_type": "code",
   "execution_count": 1,
   "metadata": {},
   "outputs": [
    {
     "name": "stdout",
     "output_type": "stream",
     "text": [
      "Once deleted, variables cannot be recovered. Proceed (y/[n])? y\n",
      "Don't know how to reset  (), please run `%reset?` for details\n"
     ]
    }
   ],
   "source": [
    "reset()"
   ]
  },
  {
   "cell_type": "code",
   "execution_count": 2,
   "metadata": {},
   "outputs": [],
   "source": [
    "import pandas as pd\n",
    "import numpy as np\n",
    "import pyodbc "
   ]
  },
  {
   "cell_type": "code",
   "execution_count": 3,
   "metadata": {},
   "outputs": [],
   "source": [
    "QueryFile = '../00_AuxSQL/01.Vending_Propor.sql'\n",
    "\n",
    "fd = open(QueryFile,'r', encoding='utf-16')\n",
    "Query = fd.read()\n",
    "fd.close()"
   ]
  },
  {
   "cell_type": "code",
   "execution_count": 4,
   "metadata": {},
   "outputs": [
    {
     "name": "stdout",
     "output_type": "stream",
     "text": [
      "Wall time: 867 ms\n"
     ]
    }
   ],
   "source": [
    "%%time\n",
    "conn = pyodbc.connect('Driver={SQL Server};'\n",
    "                      'Server=esmz08srdb009;'\n",
    "                      'Database=ITE_PRD;'\n",
    "                      'Trusted_Connection=yes;')\n",
    "\n",
    "cursor = conn.cursor()\n"
   ]
  },
  {
   "cell_type": "code",
   "execution_count": 5,
   "metadata": {},
   "outputs": [
    {
     "name": "stdout",
     "output_type": "stream",
     "text": [
      "Wall time: 1min 43s\n"
     ]
    }
   ],
   "source": [
    "%%time\n",
    "Popor_estancos = pd.read_sql(Query,conn)"
   ]
  },
  {
   "cell_type": "markdown",
   "metadata": {},
   "source": [
    "inputcsv=r'https://spainblob.blob.core.windows.net/altadis/Vending_Proportions.csv'\n",
    "\n",
    "Popor_estancos = pd.read_csv(inputcsv) \n"
   ]
  },
  {
   "cell_type": "code",
   "execution_count": 6,
   "metadata": {},
   "outputs": [
    {
     "data": {
      "text/plain": [
       "Index(['CUSTOMER_ID', 'Sales2C', 'Sales2C_num', 'MES', 'BLOND_VOL',\n",
       "       'BLOND_PCK', 'BLACK_VOL', 'BLACK_PCK', 'RYO_VOL', 'RYO_PCK',\n",
       "       'CIGAR_VOL', 'PIPE_VOL', 'PIPE_PCK'],\n",
       "      dtype='object')"
      ]
     },
     "execution_count": 6,
     "metadata": {},
     "output_type": "execute_result"
    }
   ],
   "source": [
    "Popor_estancos.columns"
   ]
  },
  {
   "cell_type": "code",
   "execution_count": 7,
   "metadata": {},
   "outputs": [
    {
     "data": {
      "text/html": [
       "<div>\n",
       "<style scoped>\n",
       "    .dataframe tbody tr th:only-of-type {\n",
       "        vertical-align: middle;\n",
       "    }\n",
       "\n",
       "    .dataframe tbody tr th {\n",
       "        vertical-align: top;\n",
       "    }\n",
       "\n",
       "    .dataframe thead th {\n",
       "        text-align: right;\n",
       "    }\n",
       "</style>\n",
       "<table border=\"1\" class=\"dataframe\">\n",
       "  <thead>\n",
       "    <tr style=\"text-align: right;\">\n",
       "      <th></th>\n",
       "      <th>CUSTOMER_ID</th>\n",
       "      <th>Sales2C</th>\n",
       "      <th>Sales2C_num</th>\n",
       "      <th>MES</th>\n",
       "      <th>BLOND_VOL</th>\n",
       "      <th>BLOND_PCK</th>\n",
       "      <th>BLACK_VOL</th>\n",
       "      <th>BLACK_PCK</th>\n",
       "      <th>RYO_VOL</th>\n",
       "      <th>RYO_PCK</th>\n",
       "      <th>CIGAR_VOL</th>\n",
       "      <th>PIPE_VOL</th>\n",
       "      <th>PIPE_PCK</th>\n",
       "    </tr>\n",
       "  </thead>\n",
       "  <tbody>\n",
       "    <tr>\n",
       "      <th>0</th>\n",
       "      <td>07008519</td>\n",
       "      <td>None</td>\n",
       "      <td>0.0</td>\n",
       "      <td>201808.0</td>\n",
       "      <td>506172.0</td>\n",
       "      <td>25193.0</td>\n",
       "      <td>0.030029</td>\n",
       "      <td>0.030167</td>\n",
       "      <td>0.043092</td>\n",
       "      <td>0.022665</td>\n",
       "      <td>0.018452</td>\n",
       "      <td>0.000000</td>\n",
       "      <td>0.000000</td>\n",
       "    </tr>\n",
       "    <tr>\n",
       "      <th>1</th>\n",
       "      <td>30002141</td>\n",
       "      <td>56% - 60%</td>\n",
       "      <td>58.0</td>\n",
       "      <td>201902.0</td>\n",
       "      <td>527840.0</td>\n",
       "      <td>26102.0</td>\n",
       "      <td>0.021597</td>\n",
       "      <td>0.021684</td>\n",
       "      <td>0.240946</td>\n",
       "      <td>0.111217</td>\n",
       "      <td>0.070750</td>\n",
       "      <td>0.068619</td>\n",
       "      <td>0.027584</td>\n",
       "    </tr>\n",
       "    <tr>\n",
       "      <th>2</th>\n",
       "      <td>03020443</td>\n",
       "      <td>6% - 10%</td>\n",
       "      <td>8.0</td>\n",
       "      <td>201906.0</td>\n",
       "      <td>254684.0</td>\n",
       "      <td>12548.0</td>\n",
       "      <td>0.040049</td>\n",
       "      <td>0.040643</td>\n",
       "      <td>0.158050</td>\n",
       "      <td>0.076426</td>\n",
       "      <td>0.016491</td>\n",
       "      <td>0.000000</td>\n",
       "      <td>0.000000</td>\n",
       "    </tr>\n",
       "    <tr>\n",
       "      <th>3</th>\n",
       "      <td>08040776</td>\n",
       "      <td>None</td>\n",
       "      <td>0.0</td>\n",
       "      <td>201804.0</td>\n",
       "      <td>106608.0</td>\n",
       "      <td>5262.0</td>\n",
       "      <td>0.084421</td>\n",
       "      <td>0.085518</td>\n",
       "      <td>0.325585</td>\n",
       "      <td>0.157544</td>\n",
       "      <td>0.101352</td>\n",
       "      <td>0.020636</td>\n",
       "      <td>0.011402</td>\n",
       "    </tr>\n",
       "    <tr>\n",
       "      <th>4</th>\n",
       "      <td>08060329</td>\n",
       "      <td>16% - 20%</td>\n",
       "      <td>18.0</td>\n",
       "      <td>201804.0</td>\n",
       "      <td>1067616.0</td>\n",
       "      <td>53330.0</td>\n",
       "      <td>0.024540</td>\n",
       "      <td>0.024564</td>\n",
       "      <td>0.139989</td>\n",
       "      <td>0.061110</td>\n",
       "      <td>0.044213</td>\n",
       "      <td>0.000187</td>\n",
       "      <td>0.000187</td>\n",
       "    </tr>\n",
       "  </tbody>\n",
       "</table>\n",
       "</div>"
      ],
      "text/plain": [
       "  CUSTOMER_ID    Sales2C  Sales2C_num       MES  BLOND_VOL  BLOND_PCK  \\\n",
       "0    07008519       None          0.0  201808.0   506172.0    25193.0   \n",
       "1    30002141  56% - 60%         58.0  201902.0   527840.0    26102.0   \n",
       "2    03020443   6% - 10%          8.0  201906.0   254684.0    12548.0   \n",
       "3    08040776       None          0.0  201804.0   106608.0     5262.0   \n",
       "4    08060329  16% - 20%         18.0  201804.0  1067616.0    53330.0   \n",
       "\n",
       "   BLACK_VOL  BLACK_PCK   RYO_VOL   RYO_PCK  CIGAR_VOL  PIPE_VOL  PIPE_PCK  \n",
       "0   0.030029   0.030167  0.043092  0.022665   0.018452  0.000000  0.000000  \n",
       "1   0.021597   0.021684  0.240946  0.111217   0.070750  0.068619  0.027584  \n",
       "2   0.040049   0.040643  0.158050  0.076426   0.016491  0.000000  0.000000  \n",
       "3   0.084421   0.085518  0.325585  0.157544   0.101352  0.020636  0.011402  \n",
       "4   0.024540   0.024564  0.139989  0.061110   0.044213  0.000187  0.000187  "
      ]
     },
     "execution_count": 7,
     "metadata": {},
     "output_type": "execute_result"
    }
   ],
   "source": [
    "Popor_estancos.head()"
   ]
  },
  {
   "cell_type": "code",
   "execution_count": 8,
   "metadata": {},
   "outputs": [],
   "source": [
    "feats_to_explore=['BLOND_VOL', 'BLOND_PCK', 'BLACK_VOL', 'BLACK_PCK', 'RYO_VOL', 'RYO_PCK', 'CIGAR_VOL', 'PIPE_VOL', 'PIPE_PCK']\n",
    "#feats_to_explore=['BLACK_VOL', 'BLACK_PCK', 'RYO_VOL', 'RYO_PCK', 'CIGAR_VOL', 'PIPE_VOL', 'PIPE_PCK']\n",
    "#feats_to_explore=[ 'BLOND_PCK',  'BLACK_PCK', 'RYO_PCK', 'CIGAR_VOL', 'PIPE_PCK']\n",
    "labels= ['0% - 5%', '6% - 10%', '11% - 15%', '16% - 20%', '21% - 25%', '26% - 30%', '31% - 35%', '36% - 40%', '41% - 45%', '46% - 50%', '51% - 55%', '56% - 60%','61% - 65%', '66% - 70%', '71% - 75%', '76% - 80%', '81% - 85%', '86% - 90%', '91% - 95%', '96% - 100%']\n"
   ]
  },
  {
   "cell_type": "code",
   "execution_count": 9,
   "metadata": {},
   "outputs": [
    {
     "data": {
      "text/plain": [
       "(313512, 13)"
      ]
     },
     "execution_count": 9,
     "metadata": {},
     "output_type": "execute_result"
    }
   ],
   "source": [
    "Popor_estancos.shape"
   ]
  },
  {
   "cell_type": "code",
   "execution_count": 10,
   "metadata": {},
   "outputs": [],
   "source": [
    "from sklearn import preprocessing\n",
    "\n",
    "lab_enc = preprocessing.LabelEncoder()\n",
    "Score = lab_enc.fit_transform( Popor_estancos['Sales2C_num'])\n",
    "Popor_estancos['Score']=Score\n"
   ]
  },
  {
   "cell_type": "code",
   "execution_count": 11,
   "metadata": {},
   "outputs": [],
   "source": [
    "data=Popor_estancos"
   ]
  },
  {
   "cell_type": "code",
   "execution_count": 12,
   "metadata": {},
   "outputs": [],
   "source": [
    "data=data.dropna()"
   ]
  },
  {
   "cell_type": "code",
   "execution_count": 13,
   "metadata": {},
   "outputs": [
    {
     "data": {
      "text/plain": [
       "(251267, 14)"
      ]
     },
     "execution_count": 13,
     "metadata": {},
     "output_type": "execute_result"
    }
   ],
   "source": [
    "data.shape"
   ]
  },
  {
   "cell_type": "markdown",
   "metadata": {},
   "source": [
    "# Entrenamiento con muestra restrictiva.\n",
    "Dado que el % de ventas al segundo canal es declarativo, tomare solamente los valores mas \"fialbles\", esto es, eliminaré outliers de forma muy restritctiva(33%-66%), con estos datos, entrenaré el modelo."
   ]
  },
  {
   "cell_type": "markdown",
   "metadata": {},
   "source": [
    "### dataset sin outliers"
   ]
  },
  {
   "cell_type": "code",
   "execution_count": 14,
   "metadata": {},
   "outputs": [],
   "source": [
    "#dataset sin outliers\n",
    "\n",
    "cat_Feat=['CUSTOMER_ID','Sales2C','Sales2C_num','Score','MES']\n",
    "cat_data = data[cat_Feat]\n",
    "\n",
    "num_data =data[feats_to_explore]\n"
   ]
  },
  {
   "cell_type": "code",
   "execution_count": 15,
   "metadata": {},
   "outputs": [],
   "source": [
    "from scipy import stats\n",
    "\n",
    "idx = np.all(stats.zscore(num_data) < 3, axis=1)\n",
    "Data_cleaned = pd.concat([num_data.loc[idx], cat_data.loc[idx]], axis=1)"
   ]
  },
  {
   "cell_type": "code",
   "execution_count": 16,
   "metadata": {},
   "outputs": [],
   "source": [
    "# Restrictive Tiles\n",
    "Q1 = num_data.quantile(0.33)\n",
    "Q3 = num_data.quantile(0.66)\n",
    "IQR = Q3 - Q1\n",
    "idx = ~((num_data < (Q1 - 1.5 * IQR)) | (num_data > (Q3 + 1.5 * IQR))).any(axis=1)\n",
    "Data_cleaned = pd.concat([cat_data.loc[idx], num_data.loc[idx]], axis=1)"
   ]
  },
  {
   "cell_type": "code",
   "execution_count": 17,
   "metadata": {},
   "outputs": [
    {
     "name": "stdout",
     "output_type": "stream",
     "text": [
      "(133590, 14)\n",
      "DataSet sin outliers: 53.17 %\n"
     ]
    }
   ],
   "source": [
    "print (Data_cleaned.shape)\n",
    "print('DataSet sin outliers:',round(100*Data_cleaned.shape[0]/ data.shape[0],2),'%')"
   ]
  },
  {
   "cell_type": "code",
   "execution_count": 18,
   "metadata": {},
   "outputs": [],
   "source": [
    "from sklearn.model_selection import train_test_split\n",
    "\n",
    "Score = lab_enc.fit_transform( Data_cleaned['Sales2C_num'])\n",
    "\n",
    "X_train, X_test, y_train, y_test = train_test_split(Data_cleaned[feats_to_explore], Score, test_size=0.1, random_state=2019, stratify=Data_cleaned['Sales2C_num'])"
   ]
  },
  {
   "cell_type": "code",
   "execution_count": null,
   "metadata": {},
   "outputs": [],
   "source": []
  },
  {
   "cell_type": "markdown",
   "metadata": {},
   "source": [
    "# RANDOM FOREST"
   ]
  },
  {
   "cell_type": "code",
   "execution_count": 19,
   "metadata": {},
   "outputs": [
    {
     "name": "stdout",
     "output_type": "stream",
     "text": [
      "Wall time: 6min 19s\n"
     ]
    }
   ],
   "source": [
    "%%time\n",
    "from sklearn.ensemble import RandomForestClassifier\n",
    "\n",
    "#Create Classifier\n",
    "n_estimators=400\n",
    "rfc=RandomForestClassifier(n_estimators=n_estimators,  oob_score = True)\n",
    "rfc.fit( X_train, y_train);"
   ]
  },
  {
   "cell_type": "code",
   "execution_count": 20,
   "metadata": {},
   "outputs": [
    {
     "name": "stdout",
     "output_type": "stream",
     "text": [
      "400 : Train Score: 99.85%\n",
      "400 : out-of-bag Score: 57.27%\n",
      "400 : Test Score: 58.28%\n"
     ]
    }
   ],
   "source": [
    "print(n_estimators, ': Train Score: {:.2f}%'.format( rfc.score( X_train, y_train)*100))\n",
    "print(n_estimators, ': out-of-bag Score: {:.2f}%'.format(rfc.oob_score_*100))\n",
    "print(n_estimators, ': Test Score: {:.2f}%'.format(rfc.score(X_test, y_test)*100))"
   ]
  },
  {
   "cell_type": "code",
   "execution_count": 21,
   "metadata": {},
   "outputs": [
    {
     "data": {
      "text/plain": [
       "Index(['BLOND_VOL', 'BLOND_PCK', 'BLACK_VOL', 'BLACK_PCK', 'RYO_VOL',\n",
       "       'RYO_PCK', 'CIGAR_VOL', 'PIPE_VOL', 'PIPE_PCK'],\n",
       "      dtype='object')"
      ]
     },
     "execution_count": 21,
     "metadata": {},
     "output_type": "execute_result"
    }
   ],
   "source": [
    "X_train.columns"
   ]
  },
  {
   "cell_type": "markdown",
   "metadata": {},
   "source": [
    "# Predicción sobre el conjunto de datos completo"
   ]
  },
  {
   "cell_type": "code",
   "execution_count": 22,
   "metadata": {},
   "outputs": [
    {
     "name": "stdout",
     "output_type": "stream",
     "text": [
      "Wall time: 1min 54s\n"
     ]
    }
   ],
   "source": [
    "%%time\n",
    "predic = rfc.predict(Popor_estancos[feats_to_explore])"
   ]
  },
  {
   "cell_type": "code",
   "execution_count": 23,
   "metadata": {},
   "outputs": [
    {
     "data": {
      "text/plain": [
       "((313512,), (313512, 14))"
      ]
     },
     "execution_count": 23,
     "metadata": {},
     "output_type": "execute_result"
    }
   ],
   "source": [
    "predic.shape, Popor_estancos.shape"
   ]
  },
  {
   "cell_type": "code",
   "execution_count": 24,
   "metadata": {},
   "outputs": [],
   "source": [
    "Popor_estancos['predic_ID']=predic\n",
    "Popor_estancos['predic']=lab_enc.inverse_transform(predic)"
   ]
  },
  {
   "cell_type": "code",
   "execution_count": 25,
   "metadata": {},
   "outputs": [
    {
     "data": {
      "text/plain": [
       "CUSTOMER_ID    0.510583\n",
       "Sales2C        0.510583\n",
       "Sales2C_num    0.510583\n",
       "MES            0.510583\n",
       "BLOND_VOL      0.510583\n",
       "BLOND_PCK      0.510583\n",
       "BLACK_VOL      0.510583\n",
       "BLACK_PCK      0.510583\n",
       "RYO_VOL        0.510583\n",
       "RYO_PCK        0.510583\n",
       "CIGAR_VOL      0.510583\n",
       "PIPE_VOL       0.510583\n",
       "PIPE_PCK       0.510583\n",
       "Score          0.510583\n",
       "predic_ID      0.510583\n",
       "predic         0.510583\n",
       "dtype: float64"
      ]
     },
     "execution_count": 25,
     "metadata": {},
     "output_type": "execute_result"
    }
   ],
   "source": [
    "Popor_estancos[Popor_estancos.predic == Popor_estancos.Sales2C_num].count()/Popor_estancos.shape[0]"
   ]
  },
  {
   "cell_type": "code",
   "execution_count": 26,
   "metadata": {},
   "outputs": [
    {
     "data": {
      "text/html": [
       "<div>\n",
       "<style scoped>\n",
       "    .dataframe tbody tr th:only-of-type {\n",
       "        vertical-align: middle;\n",
       "    }\n",
       "\n",
       "    .dataframe tbody tr th {\n",
       "        vertical-align: top;\n",
       "    }\n",
       "\n",
       "    .dataframe thead th {\n",
       "        text-align: right;\n",
       "    }\n",
       "</style>\n",
       "<table border=\"1\" class=\"dataframe\">\n",
       "  <thead>\n",
       "    <tr style=\"text-align: right;\">\n",
       "      <th></th>\n",
       "      <th>CUSTOMER_ID</th>\n",
       "      <th>Sales2C</th>\n",
       "      <th>Sales2C_num</th>\n",
       "      <th>Score</th>\n",
       "      <th>MES</th>\n",
       "      <th>predic</th>\n",
       "    </tr>\n",
       "  </thead>\n",
       "  <tbody>\n",
       "    <tr>\n",
       "      <th>0</th>\n",
       "      <td>07008519</td>\n",
       "      <td>None</td>\n",
       "      <td>0.0</td>\n",
       "      <td>0</td>\n",
       "      <td>201808.0</td>\n",
       "      <td>3.0</td>\n",
       "    </tr>\n",
       "    <tr>\n",
       "      <th>1</th>\n",
       "      <td>30002141</td>\n",
       "      <td>56% - 60%</td>\n",
       "      <td>58.0</td>\n",
       "      <td>12</td>\n",
       "      <td>201902.0</td>\n",
       "      <td>13.0</td>\n",
       "    </tr>\n",
       "    <tr>\n",
       "      <th>2</th>\n",
       "      <td>03020443</td>\n",
       "      <td>6% - 10%</td>\n",
       "      <td>8.0</td>\n",
       "      <td>2</td>\n",
       "      <td>201906.0</td>\n",
       "      <td>8.0</td>\n",
       "    </tr>\n",
       "    <tr>\n",
       "      <th>3</th>\n",
       "      <td>08040776</td>\n",
       "      <td>None</td>\n",
       "      <td>0.0</td>\n",
       "      <td>0</td>\n",
       "      <td>201804.0</td>\n",
       "      <td>3.0</td>\n",
       "    </tr>\n",
       "    <tr>\n",
       "      <th>4</th>\n",
       "      <td>08060329</td>\n",
       "      <td>16% - 20%</td>\n",
       "      <td>18.0</td>\n",
       "      <td>4</td>\n",
       "      <td>201804.0</td>\n",
       "      <td>18.0</td>\n",
       "    </tr>\n",
       "    <tr>\n",
       "      <th>5</th>\n",
       "      <td>09100249</td>\n",
       "      <td>None</td>\n",
       "      <td>0.0</td>\n",
       "      <td>0</td>\n",
       "      <td>201802.0</td>\n",
       "      <td>3.0</td>\n",
       "    </tr>\n",
       "    <tr>\n",
       "      <th>6</th>\n",
       "      <td>33040106</td>\n",
       "      <td>None</td>\n",
       "      <td>0.0</td>\n",
       "      <td>0</td>\n",
       "      <td>201802.0</td>\n",
       "      <td>3.0</td>\n",
       "    </tr>\n",
       "    <tr>\n",
       "      <th>7</th>\n",
       "      <td>28002731</td>\n",
       "      <td>0% - 5%</td>\n",
       "      <td>3.0</td>\n",
       "      <td>1</td>\n",
       "      <td>201811.0</td>\n",
       "      <td>3.0</td>\n",
       "    </tr>\n",
       "    <tr>\n",
       "      <th>8</th>\n",
       "      <td>10100105</td>\n",
       "      <td>11% - 15%</td>\n",
       "      <td>13.0</td>\n",
       "      <td>3</td>\n",
       "      <td>201809.0</td>\n",
       "      <td>13.0</td>\n",
       "    </tr>\n",
       "    <tr>\n",
       "      <th>9</th>\n",
       "      <td>08001034</td>\n",
       "      <td>6% - 10%</td>\n",
       "      <td>8.0</td>\n",
       "      <td>2</td>\n",
       "      <td>201811.0</td>\n",
       "      <td>13.0</td>\n",
       "    </tr>\n",
       "    <tr>\n",
       "      <th>10</th>\n",
       "      <td>08950800</td>\n",
       "      <td>11% - 15%</td>\n",
       "      <td>13.0</td>\n",
       "      <td>3</td>\n",
       "      <td>201812.0</td>\n",
       "      <td>13.0</td>\n",
       "    </tr>\n",
       "    <tr>\n",
       "      <th>11</th>\n",
       "      <td>29000932</td>\n",
       "      <td>16% - 20%</td>\n",
       "      <td>18.0</td>\n",
       "      <td>4</td>\n",
       "      <td>201903.0</td>\n",
       "      <td>43.0</td>\n",
       "    </tr>\n",
       "    <tr>\n",
       "      <th>12</th>\n",
       "      <td>08070575</td>\n",
       "      <td>6% - 10%</td>\n",
       "      <td>8.0</td>\n",
       "      <td>2</td>\n",
       "      <td>201810.0</td>\n",
       "      <td>8.0</td>\n",
       "    </tr>\n",
       "    <tr>\n",
       "      <th>13</th>\n",
       "      <td>46000030</td>\n",
       "      <td>0% - 5%</td>\n",
       "      <td>3.0</td>\n",
       "      <td>1</td>\n",
       "      <td>201910.0</td>\n",
       "      <td>3.0</td>\n",
       "    </tr>\n",
       "    <tr>\n",
       "      <th>14</th>\n",
       "      <td>08050676</td>\n",
       "      <td>11% - 15%</td>\n",
       "      <td>13.0</td>\n",
       "      <td>3</td>\n",
       "      <td>201903.0</td>\n",
       "      <td>13.0</td>\n",
       "    </tr>\n",
       "    <tr>\n",
       "      <th>15</th>\n",
       "      <td>17000092</td>\n",
       "      <td>21% - 25%</td>\n",
       "      <td>23.0</td>\n",
       "      <td>5</td>\n",
       "      <td>201905.0</td>\n",
       "      <td>23.0</td>\n",
       "    </tr>\n",
       "    <tr>\n",
       "      <th>16</th>\n",
       "      <td>50030048</td>\n",
       "      <td>None</td>\n",
       "      <td>0.0</td>\n",
       "      <td>0</td>\n",
       "      <td>201906.0</td>\n",
       "      <td>8.0</td>\n",
       "    </tr>\n",
       "    <tr>\n",
       "      <th>17</th>\n",
       "      <td>37000379</td>\n",
       "      <td>26% - 30%</td>\n",
       "      <td>28.0</td>\n",
       "      <td>6</td>\n",
       "      <td>201801.0</td>\n",
       "      <td>28.0</td>\n",
       "    </tr>\n",
       "    <tr>\n",
       "      <th>18</th>\n",
       "      <td>27000199</td>\n",
       "      <td>11% - 15%</td>\n",
       "      <td>13.0</td>\n",
       "      <td>3</td>\n",
       "      <td>201801.0</td>\n",
       "      <td>18.0</td>\n",
       "    </tr>\n",
       "    <tr>\n",
       "      <th>19</th>\n",
       "      <td>28004968</td>\n",
       "      <td>0% - 5%</td>\n",
       "      <td>3.0</td>\n",
       "      <td>1</td>\n",
       "      <td>201801.0</td>\n",
       "      <td>3.0</td>\n",
       "    </tr>\n",
       "    <tr>\n",
       "      <th>20</th>\n",
       "      <td>03020104</td>\n",
       "      <td>0% - 5%</td>\n",
       "      <td>3.0</td>\n",
       "      <td>1</td>\n",
       "      <td>201808.0</td>\n",
       "      <td>3.0</td>\n",
       "    </tr>\n",
       "    <tr>\n",
       "      <th>21</th>\n",
       "      <td>15140270</td>\n",
       "      <td>26% - 30%</td>\n",
       "      <td>28.0</td>\n",
       "      <td>6</td>\n",
       "      <td>201808.0</td>\n",
       "      <td>28.0</td>\n",
       "    </tr>\n",
       "    <tr>\n",
       "      <th>22</th>\n",
       "      <td>40010258</td>\n",
       "      <td>None</td>\n",
       "      <td>0.0</td>\n",
       "      <td>0</td>\n",
       "      <td>201812.0</td>\n",
       "      <td>38.0</td>\n",
       "    </tr>\n",
       "    <tr>\n",
       "      <th>23</th>\n",
       "      <td>39001540</td>\n",
       "      <td>16% - 20%</td>\n",
       "      <td>18.0</td>\n",
       "      <td>4</td>\n",
       "      <td>201811.0</td>\n",
       "      <td>18.0</td>\n",
       "    </tr>\n",
       "    <tr>\n",
       "      <th>24</th>\n",
       "      <td>22080287</td>\n",
       "      <td>None</td>\n",
       "      <td>0.0</td>\n",
       "      <td>0</td>\n",
       "      <td>201903.0</td>\n",
       "      <td>3.0</td>\n",
       "    </tr>\n",
       "    <tr>\n",
       "      <th>25</th>\n",
       "      <td>04020244</td>\n",
       "      <td>None</td>\n",
       "      <td>0.0</td>\n",
       "      <td>0</td>\n",
       "      <td>201806.0</td>\n",
       "      <td>3.0</td>\n",
       "    </tr>\n",
       "    <tr>\n",
       "      <th>26</th>\n",
       "      <td>40000010</td>\n",
       "      <td>21% - 25%</td>\n",
       "      <td>23.0</td>\n",
       "      <td>5</td>\n",
       "      <td>201712.0</td>\n",
       "      <td>23.0</td>\n",
       "    </tr>\n",
       "    <tr>\n",
       "      <th>27</th>\n",
       "      <td>10020162</td>\n",
       "      <td>21% - 25%</td>\n",
       "      <td>23.0</td>\n",
       "      <td>5</td>\n",
       "      <td>201711.0</td>\n",
       "      <td>23.0</td>\n",
       "    </tr>\n",
       "    <tr>\n",
       "      <th>28</th>\n",
       "      <td>14110027</td>\n",
       "      <td>46% - 50%</td>\n",
       "      <td>48.0</td>\n",
       "      <td>10</td>\n",
       "      <td>201801.0</td>\n",
       "      <td>48.0</td>\n",
       "    </tr>\n",
       "    <tr>\n",
       "      <th>29</th>\n",
       "      <td>02010213</td>\n",
       "      <td>6% - 10%</td>\n",
       "      <td>8.0</td>\n",
       "      <td>2</td>\n",
       "      <td>201803.0</td>\n",
       "      <td>8.0</td>\n",
       "    </tr>\n",
       "  </tbody>\n",
       "</table>\n",
       "</div>"
      ],
      "text/plain": [
       "   CUSTOMER_ID    Sales2C  Sales2C_num  Score       MES  predic\n",
       "0     07008519       None          0.0      0  201808.0     3.0\n",
       "1     30002141  56% - 60%         58.0     12  201902.0    13.0\n",
       "2     03020443   6% - 10%          8.0      2  201906.0     8.0\n",
       "3     08040776       None          0.0      0  201804.0     3.0\n",
       "4     08060329  16% - 20%         18.0      4  201804.0    18.0\n",
       "5     09100249       None          0.0      0  201802.0     3.0\n",
       "6     33040106       None          0.0      0  201802.0     3.0\n",
       "7     28002731    0% - 5%          3.0      1  201811.0     3.0\n",
       "8     10100105  11% - 15%         13.0      3  201809.0    13.0\n",
       "9     08001034   6% - 10%          8.0      2  201811.0    13.0\n",
       "10    08950800  11% - 15%         13.0      3  201812.0    13.0\n",
       "11    29000932  16% - 20%         18.0      4  201903.0    43.0\n",
       "12    08070575   6% - 10%          8.0      2  201810.0     8.0\n",
       "13    46000030    0% - 5%          3.0      1  201910.0     3.0\n",
       "14    08050676  11% - 15%         13.0      3  201903.0    13.0\n",
       "15    17000092  21% - 25%         23.0      5  201905.0    23.0\n",
       "16    50030048       None          0.0      0  201906.0     8.0\n",
       "17    37000379  26% - 30%         28.0      6  201801.0    28.0\n",
       "18    27000199  11% - 15%         13.0      3  201801.0    18.0\n",
       "19    28004968    0% - 5%          3.0      1  201801.0     3.0\n",
       "20    03020104    0% - 5%          3.0      1  201808.0     3.0\n",
       "21    15140270  26% - 30%         28.0      6  201808.0    28.0\n",
       "22    40010258       None          0.0      0  201812.0    38.0\n",
       "23    39001540  16% - 20%         18.0      4  201811.0    18.0\n",
       "24    22080287       None          0.0      0  201903.0     3.0\n",
       "25    04020244       None          0.0      0  201806.0     3.0\n",
       "26    40000010  21% - 25%         23.0      5  201712.0    23.0\n",
       "27    10020162  21% - 25%         23.0      5  201711.0    23.0\n",
       "28    14110027  46% - 50%         48.0     10  201801.0    48.0\n",
       "29    02010213   6% - 10%          8.0      2  201803.0     8.0"
      ]
     },
     "execution_count": 26,
     "metadata": {},
     "output_type": "execute_result"
    }
   ],
   "source": [
    "Popor_estancos[cat_Feat+['predic']].head(30)"
   ]
  },
  {
   "cell_type": "code",
   "execution_count": 27,
   "metadata": {},
   "outputs": [
    {
     "data": {
      "text/html": [
       "<div>\n",
       "<style scoped>\n",
       "    .dataframe tbody tr th:only-of-type {\n",
       "        vertical-align: middle;\n",
       "    }\n",
       "\n",
       "    .dataframe tbody tr th {\n",
       "        vertical-align: top;\n",
       "    }\n",
       "\n",
       "    .dataframe thead th {\n",
       "        text-align: right;\n",
       "    }\n",
       "</style>\n",
       "<table border=\"1\" class=\"dataframe\">\n",
       "  <thead>\n",
       "    <tr style=\"text-align: right;\">\n",
       "      <th></th>\n",
       "      <th>BLOND_VOL</th>\n",
       "      <th>BLOND_PCK</th>\n",
       "      <th>BLACK_VOL</th>\n",
       "      <th>BLACK_PCK</th>\n",
       "      <th>RYO_VOL</th>\n",
       "      <th>RYO_PCK</th>\n",
       "      <th>CIGAR_VOL</th>\n",
       "      <th>PIPE_VOL</th>\n",
       "      <th>PIPE_PCK</th>\n",
       "      <th>predic</th>\n",
       "    </tr>\n",
       "  </thead>\n",
       "  <tbody>\n",
       "  </tbody>\n",
       "</table>\n",
       "</div>"
      ],
      "text/plain": [
       "Empty DataFrame\n",
       "Columns: [BLOND_VOL, BLOND_PCK, BLACK_VOL, BLACK_PCK, RYO_VOL, RYO_PCK, CIGAR_VOL, PIPE_VOL, PIPE_PCK, predic]\n",
       "Index: []"
      ]
     },
     "execution_count": 27,
     "metadata": {},
     "output_type": "execute_result"
    }
   ],
   "source": [
    "Popor_estancos [Popor_estancos.CUSTOMER_ID==36002350][feats_to_explore+['predic']]"
   ]
  },
  {
   "cell_type": "code",
   "execution_count": 28,
   "metadata": {},
   "outputs": [],
   "source": [
    "Output=r'../02_AuxData/01_Vending_Predic_Prop.csv'"
   ]
  },
  {
   "cell_type": "code",
   "execution_count": 29,
   "metadata": {},
   "outputs": [],
   "source": [
    "Popor_estancos[['CUSTOMER_ID', 'MES', 'Sales2C_num', 'predic']].to_csv(Output , sep='|', index=False) \n"
   ]
  },
  {
   "cell_type": "code",
   "execution_count": 30,
   "metadata": {},
   "outputs": [],
   "source": [
    "#Duración 10 min\n",
    "    "
   ]
  },
  {
   "cell_type": "markdown",
   "metadata": {},
   "source": [
    "## Resultado:\n",
    "\n",
    "la prediccion obtenida en el fichero 01_Vending_Predic_Prop.csv, se guardara en BBDD para la transformación final de los Datos"
   ]
  },
  {
   "cell_type": "code",
   "execution_count": null,
   "metadata": {},
   "outputs": [],
   "source": []
  },
  {
   "cell_type": "code",
   "execution_count": null,
   "metadata": {},
   "outputs": [],
   "source": []
  }
 ],
 "metadata": {
  "kernelspec": {
   "display_name": "Python 3",
   "language": "python",
   "name": "python3"
  },
  "language_info": {
   "codemirror_mode": {
    "name": "ipython",
    "version": 3
   },
   "file_extension": ".py",
   "mimetype": "text/x-python",
   "name": "python",
   "nbconvert_exporter": "python",
   "pygments_lexer": "ipython3",
   "version": "3.6.8"
  }
 },
 "nbformat": 4,
 "nbformat_minor": 2
}
